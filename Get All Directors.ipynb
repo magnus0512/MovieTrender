{
 "cells": [
  {
   "cell_type": "code",
   "execution_count": 11,
   "metadata": {
    "collapsed": true
   },
   "outputs": [],
   "source": [
    "import urllib2\n",
    "import json\n",
    "import re\n",
    "import io\n",
    "import copy\n",
    "import nltk, re, pprint\n",
    "import os\n",
    "import time\n",
    "import calendar\n",
    "import datetime\n",
    "from threading import Thread\n",
    "from time import sleep"
   ]
  },
  {
   "cell_type": "code",
   "execution_count": null,
   "metadata": {
    "collapsed": true
   },
   "outputs": [],
   "source": []
  },
  {
   "cell_type": "code",
   "execution_count": null,
   "metadata": {
    "collapsed": true
   },
   "outputs": [],
   "source": []
  },
  {
   "cell_type": "code",
   "execution_count": 12,
   "metadata": {
    "collapsed": true
   },
   "outputs": [],
   "source": [
    "for filename in os.listdir('Credits'):\n",
    "    test = io.open(\"Credits/\" + filename, 'r', encoding='utf-8')\n",
    "    sidensJson = json.load(test)\n",
    "    test.close()\n",
    "    castList = []\n",
    "    for i in sidensJson[\"crew\"]:\n",
    "        if i[\"job\"] == \"Director\":\n",
    "            try:\n",
    "                if str(i[\"id\"]) not in castList:\n",
    "                    f = io.open(\"Directors/\" + str(i[\"id\"]) + \".txt\", 'a', encoding='utf-8')\n",
    "                    f.write(unicode(filename[:-4]) + \"\\n\")\n",
    "                    f.close()\n",
    "                    castList.append(str(i[\"id\"]))\n",
    "                else:\n",
    "                    pass\n",
    "            except:\n",
    "                f = io.open(\"Directors/\" + str(i[\"id\"]) + \".txt\", 'w', encoding='utf-8')\n",
    "                f.write(unicode(filename[:-4]) + \"\\n\")\n",
    "                f.close()\n",
    "                castList.append(str(i[\"id\"]))\n",
    "    #break"
   ]
  },
  {
   "cell_type": "code",
   "execution_count": null,
   "metadata": {
    "collapsed": true
   },
   "outputs": [],
   "source": []
  },
  {
   "cell_type": "code",
   "execution_count": null,
   "metadata": {
    "collapsed": true
   },
   "outputs": [],
   "source": []
  },
  {
   "cell_type": "code",
   "execution_count": 2,
   "metadata": {
    "collapsed": true
   },
   "outputs": [],
   "source": [
    "test = io.open(\"Credits/\" + \"107.txt\", 'r', encoding='utf-8')\n",
    "sidensJson = json.load(test)\n",
    "test.close()"
   ]
  },
  {
   "cell_type": "code",
   "execution_count": 9,
   "metadata": {},
   "outputs": [
    {
     "name": "stdout",
     "output_type": "stream",
     "text": [
      "Director\n",
      "Producer\n",
      "Original Music Composer\n",
      "Director of Photography\n",
      "Production Design\n",
      "Casting\n",
      "Editor\n",
      "Writer\n",
      "Music\n",
      "Steadicam Operator\n",
      "Costume Design\n",
      "Costume Supervisor\n",
      "Art Direction\n",
      "Set Decoration\n",
      "Co-Producer\n",
      "Executive Producer\n",
      "Executive Producer\n",
      "Executive Producer\n",
      "Associate Producer\n",
      "Associate Producer\n",
      "Executive Producer\n",
      "Executive Producer\n",
      "Standby Painter\n",
      "Grip\n",
      "Still Photographer\n",
      "Assistant Art Director\n",
      "Construction Coordinator\n",
      "Prosthetic Supervisor\n",
      "Hairstylist\n",
      "Key Hair Stylist\n",
      "Makeup Artist\n",
      "Additional Music\n",
      "Armorer\n",
      "Cableman\n",
      "Carpenter\n",
      "Dialect Coach\n",
      "Driver\n",
      "Loader\n",
      "Property Master\n",
      "Second Unit Cinematographer\n",
      "Security\n",
      "Stand In\n",
      "Stunt Coordinator\n",
      "Transportation Captain\n",
      "Unit Publicist\n",
      "Assistant Director\n",
      "Script Supervisor\n",
      "Color Timer\n",
      "First Assistant Editor\n",
      "Electrician\n",
      "Location Manager\n",
      "Production Accountant\n",
      "Production Coordinator\n",
      "Production Manager\n",
      "Researcher\n",
      "Boom Operator\n",
      "Foley\n",
      "Music Editor\n",
      "Sound Designer\n",
      "Sound Effects Editor\n",
      "Sound Mixer\n",
      "Supervising Sound Editor\n",
      "Special Effects Supervisor\n",
      "Storyboard\n",
      "Score Engineer\n"
     ]
    }
   ],
   "source": [
    "for i in sidensJson[\"crew\"]:\n",
    "    if i[\"job\"] == \"Director\":\n",
    "        pass\n",
    "    print i[\"job\"]"
   ]
  },
  {
   "cell_type": "code",
   "execution_count": null,
   "metadata": {
    "collapsed": true
   },
   "outputs": [],
   "source": []
  },
  {
   "cell_type": "code",
   "execution_count": null,
   "metadata": {
    "collapsed": true
   },
   "outputs": [],
   "source": []
  }
 ],
 "metadata": {
  "kernelspec": {
   "display_name": "Python 2",
   "language": "python",
   "name": "python2"
  },
  "language_info": {
   "codemirror_mode": {
    "name": "ipython",
    "version": 2
   },
   "file_extension": ".py",
   "mimetype": "text/x-python",
   "name": "python",
   "nbconvert_exporter": "python",
   "pygments_lexer": "ipython2",
   "version": "2.7.13"
  }
 },
 "nbformat": 4,
 "nbformat_minor": 2
}
