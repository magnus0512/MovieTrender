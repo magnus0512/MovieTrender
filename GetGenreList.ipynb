{
 "cells": [
  {
   "cell_type": "code",
   "execution_count": 4,
   "metadata": {
    "collapsed": true
   },
   "outputs": [],
   "source": [
    "import urllib2\n",
    "import json\n",
    "import re\n",
    "import io\n",
    "import copy\n",
    "import nltk, re, pprint\n",
    "import os\n",
    "import time\n",
    "import calendar\n",
    "import datetime\n",
    "from threading import Thread\n",
    "from time import sleep\n",
    "import codecs\n",
    "from HTMLParser import HTMLParser\n",
    "import os"
   ]
  },
  {
   "cell_type": "code",
   "execution_count": 26,
   "metadata": {
    "collapsed": true
   },
   "outputs": [],
   "source": [
    "movieAproved = []\n",
    "for f in os.listdir(\"DoneMovies/\"):\n",
    "    movieAproved.append(f[:-4])"
   ]
  },
  {
   "cell_type": "code",
   "execution_count": 27,
   "metadata": {},
   "outputs": [
    {
     "data": {
      "text/plain": [
       "'tt0074486'"
      ]
     },
     "execution_count": 27,
     "metadata": {},
     "output_type": "execute_result"
    }
   ],
   "source": [
    "movieAproved[0]"
   ]
  },
  {
   "cell_type": "code",
   "execution_count": 28,
   "metadata": {
    "collapsed": true
   },
   "outputs": [],
   "source": [
    "movieGenreList = []\n",
    "with open('Movies.txt','r') as f:\n",
    "    for line in f:\n",
    "        if line.split(None, 1)[0] in movieAproved:\n",
    "            moviegenre = re.search(r'(\\w\\w\\w\\w\\w\\w\\w\\w\\w)\\t.+\\t([\\w,-]+)\\n', line)\n",
    "            if moviegenre:\n",
    "                #print \"moviegenre.group() : \",  moviegenre.group(1) +\" \"+ moviegenre.group(2)\n",
    "                movieGenreList.append(moviegenre.group(1) +\" \"+ moviegenre.group(2))\n",
    "            else:\n",
    "                print (\"None Type:\"+line.split(None, 1)[0])"
   ]
  },
  {
   "cell_type": "code",
   "execution_count": 29,
   "metadata": {},
   "outputs": [
    {
     "data": {
      "text/plain": [
       "4398"
      ]
     },
     "execution_count": 29,
     "metadata": {},
     "output_type": "execute_result"
    }
   ],
   "source": [
    "len(movieGenreList)"
   ]
  },
  {
   "cell_type": "code",
   "execution_count": 30,
   "metadata": {
    "collapsed": true
   },
   "outputs": [],
   "source": [
    "for moviegenres in movieGenreList:\n",
    "    splitted = moviegenres.split()\n",
    "    movieid = splitted[0]\n",
    "    moviegen = splitted[1]\n",
    "    if (not os.path.isfile(\"MovieGenres/\" + movieid +\".txt\") or os.path.getsize(\"MovieGenres/\" + movieid +\".txt\") == 0):\n",
    "        f = codecs.open(\"MovieGenres/\" + movieid +\".txt\", \"w\", \"utf-8\")\n",
    "        f.write(moviegen)\n",
    "        f.close()"
   ]
  },
  {
   "cell_type": "code",
   "execution_count": 31,
   "metadata": {},
   "outputs": [
    {
     "name": "stdout",
     "output_type": "stream",
     "text": [
      "['tt0307987 Comedy', 'Crime', 'Drama']\n"
     ]
    }
   ],
   "source": [
    "print movieGenreList[0].split(',')"
   ]
  },
  {
   "cell_type": "code",
   "execution_count": 32,
   "metadata": {
    "collapsed": true
   },
   "outputs": [],
   "source": [
    "for filename in os.listdir('MovieGenres'):\n",
    "    with open(\"MovieGenres/\" + filename) as movie:\n",
    "        genres = movie.read().split(',')\n",
    "        for gen in genres:\n",
    "            try:\n",
    "                f = io.open(\"GenreList/\" + gen + \".txt\", 'a', encoding='utf-8')\n",
    "                f.write(unicode(filename[:-4]) + \"\\n\")\n",
    "                f.close()\n",
    "            except:\n",
    "                f = io.open(\"GenreList/\" + gen + \".txt\", 'w', encoding='utf-8')\n",
    "                f.write(unicode(filename[:-4]) + \"\\n\")\n",
    "                f.close()\n",
    "        "
   ]
  },
  {
   "cell_type": "code",
   "execution_count": null,
   "metadata": {
    "collapsed": true
   },
   "outputs": [],
   "source": []
  },
  {
   "cell_type": "code",
   "execution_count": null,
   "metadata": {
    "collapsed": true
   },
   "outputs": [],
   "source": [
    "for filename in os.listdir('MovieGenres'):\n",
    "    with open(\"GenreList/\" + filename) as movie:\n",
    "        genres = movie.read().split(',')"
   ]
  },
  {
   "cell_type": "code",
   "execution_count": 33,
   "metadata": {
    "collapsed": true
   },
   "outputs": [],
   "source": [
    "actionList =  []\n",
    "with open(\"GenreList/Action.txt\") as f:\n",
    "     actionList = f.readlines()\n",
    "for movienumber in range(0, len(actionList)):\n",
    "    actionList[movienumber] = actionList[movienumber].rstrip()"
   ]
  },
  {
   "cell_type": "code",
   "execution_count": 36,
   "metadata": {
    "collapsed": true
   },
   "outputs": [],
   "source": [
    "words = \"\"\n",
    "for idd in actionList:\n",
    "    with codecs.open(\"DoneMoviesReviews/\" + idd + \".txt\", \"r\", \"utf-8\") as myfile:\n",
    "        data=myfile.read().replace('\\n', '')\n",
    "        data=data.replace(\"<|_=00=_|>\", \"\")\n",
    "        data = re.sub('[^a-zA-Z0-9-_*.]', ' ', data)\n",
    "        words = words + ''.join(data)"
   ]
  },
  {
   "cell_type": "code",
   "execution_count": 14,
   "metadata": {},
   "outputs": [
    {
     "name": "stderr",
     "output_type": "stream",
     "text": [
      "IOPub data rate exceeded.\n",
      "The notebook server will temporarily stop sending output\n",
      "to the client in order to avoid crashing it.\n",
      "To change this limit, set the config variable\n",
      "`--NotebookApp.iopub_data_rate_limit`.\n"
     ]
    }
   ],
   "source": [
    "words"
   ]
  },
  {
   "cell_type": "code",
   "execution_count": 34,
   "metadata": {
    "collapsed": true
   },
   "outputs": [],
   "source": [
    "import matplotlib.pyplot as plt\n",
    "from wordcloud import WordCloud, STOPWORDS"
   ]
  },
  {
   "cell_type": "code",
   "execution_count": 38,
   "metadata": {
    "collapsed": true
   },
   "outputs": [],
   "source": [
    "more_stopwords = {'movie', 'film','action'}\n",
    "STOPWORDS = STOPWORDS.union(more_stopwords)"
   ]
  },
  {
   "cell_type": "code",
   "execution_count": 39,
   "metadata": {},
   "outputs": [
    {
     "data": {
      "image/png": "[encoded data removed]",
      "text/plain": [
       "<matplotlib.figure.Figure at 0x1940f128>"
      ]
     },
     "metadata": {},
     "output_type": "display_data"
    }
   ],
   "source": [
    "wordcloud = WordCloud(\n",
    "                      font_path='CaviarDreams.ttf',\n",
    "                      stopwords=STOPWORDS,\n",
    "                      background_color='black',\n",
    "                      width=1800,\n",
    "                      height=1400\n",
    "                     ).generate(words)\n",
    "\n",
    "plt.imshow(wordcloud)\n",
    "plt.axis('off')\n",
    "plt.show()"
   ]
  },
  {
   "cell_type": "code",
   "execution_count": null,
   "metadata": {
    "collapsed": true
   },
   "outputs": [],
   "source": []
  }
 ],
 "metadata": {
  "kernelspec": {
   "display_name": "Python 2",
   "language": "python",
   "name": "python2"
  },
  "language_info": {
   "codemirror_mode": {
    "name": "ipython",
    "version": 2
   },
   "file_extension": ".py",
   "mimetype": "text/x-python",
   "name": "python",
   "nbconvert_exporter": "python",
   "pygments_lexer": "ipython2",
   "version": "2.7.13"
  }
 },
 "nbformat": 4,
 "nbformat_minor": 2
}
