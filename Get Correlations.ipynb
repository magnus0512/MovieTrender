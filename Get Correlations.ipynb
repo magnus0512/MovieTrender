{
 "cells": [
  {
   "cell_type": "code",
   "execution_count": 1,
   "metadata": {
    "collapsed": true
   },
   "outputs": [],
   "source": [
    "import urllib2\n",
    "import json\n",
    "import re\n",
    "import io\n",
    "import copy\n",
    "import nltk, re, pprint\n",
    "import string\n",
    "import os\n",
    "import time\n",
    "import calendar\n",
    "import datetime\n",
    "from threading import Thread\n",
    "from time import sleep\n",
    "from __future__ import division\n",
    "import codecs"
   ]
  },
  {
   "cell_type": "markdown",
   "metadata": {},
   "source": [
    "The overall goal of the project is to find trends within the movie-business. Therefore we are very interested in finding correlations between differn't movie attributes which a part of our dataset.\n",
    "We will now extract all the related data from our dataset and make some plots to try and visualize the possible correlations. However our main focus will be to utilize the very usefull Panda package to do the correlation calculations between all attributes using Panda Dataframes."
   ]
  },
  {
   "cell_type": "markdown",
   "metadata": {},
   "source": [
    "<h3>SENTIMENT</h3>\n",
    "\n",
    "An interesting attribute to look into is the average sentiment-score for the reviews of a film.\n",
    "By calculating the sentiment-score, we can see whether more positive reviews are an indicatior of a higher grossing movie or maybe that the movie-score are directly correlated to how people write about a movie.\n",
    "\n",
    "The sentiment scores are calculated using LabMT wordlist. It's available as supplementary material from Temporal Patterns of Happiness and Information in a Global Social Network: Hedonometrics and Twitter (Data Set S1).\n",
    "Which can be downloaded from http://journals.plos.org/plosone/article?id=10.1371/journal.pone.0026752.\n",
    "\n",
    "We were inspired by another group during assignment 2 in which they too used the LabMT wordlist, but had some great code that improved on the efficiency. Due to the fact that assignments are anonymized we cannot credit them, but we have utilized their code in next two cells."
   ]
  },
  {
   "cell_type": "code",
   "execution_count": 2,
   "metadata": {
    "collapsed": true
   },
   "outputs": [],
   "source": [
    "#COPY CODE\n",
    "# the LabMT wordlist can now be found at the path below.\n",
    "# PREPARING THE DATA SET \n",
    "labmt = open('Data_Set_S1.txt','r').read()\n",
    "labmt  =nltk.word_tokenize(labmt) # the set is tokenized, to be able to access the values as list elements\n",
    "#labmt[labmt.index('laughter')+1]\n",
    "labmt = labmt[labmt.index('laughter'):] # A little hard coding to remove problematic text from labmt set\n",
    "# EXTRACT ONLY THE WORDS FROM THE DATA SET\n",
    "words_in_labmt = re.findall('[\\D]+',' '.join(labmt).translate(None, string.punctuation)) # find all words that are not digits                                                                                          #and remove punctuation\n",
    "words_in_labmt = re.findall('[\\S]+',' '.join(words_in_labmt)) # exclude whitespaces"
   ]
  },
  {
   "cell_type": "code",
   "execution_count": 3,
   "metadata": {
    "collapsed": true
   },
   "outputs": [],
   "source": [
    "#COPY CODE\n",
    "#REMOVE ANY WORDS THAT HAVE BEEN GENERATED ABOVE, THAT ARE NOT IN LABMT\n",
    "remove = set() # set of words to exclude from 'words_in_labmt'\n",
    "labmt_valence = {} # dictionary to contain words from 'words_in_labmt' as keys and their corresponding valence as values.\n",
    "for word in words_in_labmt: \n",
    "    if word not in labmt: \n",
    "        remove.add(word)  # add word to remove to 'remove' set\n",
    "    else:\n",
    "        valence = float(labmt[labmt.index(word)+2])  # get valence score from labmt\n",
    "        if valence <= 10.0:          # check that valence score is within the expected interval. \n",
    "            labmt_valence[word] = valence               \n",
    "        else: remove.add(word)   \n",
    "# exclude the words in 'remove'-set from 'words_in_labmt':\n",
    "words_in_labmt = set(words_in_labmt).difference(set(remove)) "
   ]
  },
  {
   "cell_type": "code",
   "execution_count": 4,
   "metadata": {
    "collapsed": true
   },
   "outputs": [],
   "source": [
    "#Function for calculating the sentiment of a given list of tokens.\n",
    "#Goes through each token in the list and adds it's sentiment value to the total.\n",
    "#It then returns the total sentiment value divided by the number of words in the list,\n",
    "#which is the average sentiment of the entire token list.\n",
    "from __future__ import division\n",
    "def sentiment(tokenList):\n",
    "    sentimentScore = 0.0\n",
    "    for w in tokenList:\n",
    "        if w in words_in_labmt:\n",
    "            word = w.lower()\n",
    "            sentimentScore = sentimentScore + float(labmt_valence.get(word))\n",
    "    if sentimentScore == 0.0:\n",
    "        print \"No Sentiment Words\"\n",
    "        return sentimentScore\n",
    "    else:\n",
    "        return sentimentScore/len(tokenList)"
   ]
  },
  {
   "cell_type": "code",
   "execution_count": 7,
   "metadata": {
    "collapsed": true
   },
   "outputs": [],
   "source": [
    "#Loop through all reviews and get their sentiement score\n",
    "movieSentiment = {}\n",
    "for f in os.listdir(\"DoneMovies/\"):\n",
    "    with codecs.open(\"DoneMoviesReviews/\" + f[:-4] + \".txt\", \"r\", \"utf-8\") as myfile:\n",
    "        data=myfile.read().replace('\\n', '')\n",
    "        data=data.replace(\"<|_=00=_|>\", \"\")\n",
    "        data= re.sub('[^a-zA-Z0-9-_*.]', ' ', data)\n",
    "        #Save the movie ID and the sentiment score in a dictonary\n",
    "        movieSentiment[\"\"+f[:-4]]=sentiment(data)"
   ]
  },
  {
   "cell_type": "markdown",
   "metadata": {},
   "source": [
    "We have calculated the sentiment-score for all movies. The result suprised us as we had expected that the sentiment score would  have a large interval with some (surposed bad movies) scoring in the bottom while other movies would be in the top. This however didn't occur and instead the interval only runs from 3.62 to 4.05. One explanation could be that it our review text wasn't large enough to get a good interpretation of the score or maybe the user written reviews had too many typos that it started to effect the score."
   ]
  },
  {
   "cell_type": "code",
   "execution_count": 8,
   "metadata": {},
   "outputs": [
    {
     "name": "stdout",
     "output_type": "stream",
     "text": [
      "[3.6179115584017802, 3.6542073793202716, 3.680612808408223, 3.687155570424743, 3.688344827586197, 3.691254752851643, 3.69287356321839, 3.7023720552396417, 3.702385396276194, 3.708941592920214]\n",
      "[4.054541108986618, 4.015226411075605, 4.011636243821866, 4.0020534790958555, 3.993211626574829, 3.987272583075448, 3.98676448073465, 3.983348328481988, 3.982735312341372, 3.9813453318334786]\n"
     ]
    }
   ],
   "source": [
    "print sorted(movieSentiment.values())[:10]\n",
    "print sorted(movieSentiment.values(), reverse = True)[:10]"
   ]
  },
  {
   "cell_type": "markdown",
   "metadata": {
    "collapsed": true
   },
   "source": [
    "<h3>SCORE</h3>\n",
    "The movie-score is a great way to get an understanding of how people perceive a movie and be able to seperate good and bad movies from each other. "
   ]
  },
  {
   "cell_type": "code",
   "execution_count": 9,
   "metadata": {
    "collapsed": true
   },
   "outputs": [],
   "source": [
    "movieScore = {}\n",
    "for f in os.listdir(\"DoneMovies/\"):\n",
    "    jsondata = io.open(\"DoneMovies/\" + f, 'r', encoding='utf-8')\n",
    "    sidensJson = json.load(jsondata)\n",
    "    movieScore[\"\"+f[:-4]]=sidensJson[\"vote_average\"]\n",
    "    jsondata.close()"
   ]
  },
  {
   "cell_type": "markdown",
   "metadata": {},
   "source": [
    "The scores are very diverse with an interval from 1.9 to 10.0 and thereby great to se if there is an correlation."
   ]
  },
  {
   "cell_type": "code",
   "execution_count": 10,
   "metadata": {},
   "outputs": [
    {
     "name": "stdout",
     "output_type": "stream",
     "text": [
      "[1.9, 2.0, 2.3, 2.6, 2.8, 3.0, 3.0, 3.0, 3.0, 3.0]\n",
      "[10.0, 9.0, 8.7, 8.6, 8.5, 8.5, 8.5, 8.4, 8.3, 8.3]\n"
     ]
    }
   ],
   "source": [
    "print sorted(movieScore.values())[:10]\n",
    "print sorted(movieScore.values(), reverse = True)[:10]"
   ]
  },
  {
   "cell_type": "markdown",
   "metadata": {},
   "source": [
    "<h3>Budget</h3>"
   ]
  },
  {
   "cell_type": "code",
   "execution_count": 11,
   "metadata": {
    "collapsed": true
   },
   "outputs": [],
   "source": [
    "movieBudget = {}\n",
    "for f in os.listdir(\"DoneMovies/\"):\n",
    "    jsondata = io.open(\"DoneMovies/\" + f, 'r', encoding='utf-8')\n",
    "    sidensJson = json.load(jsondata)\n",
    "    movieBudget[\"\"+f[:-4]]=sidensJson[\"budget\"]\n",
    "    jsondata.close()"
   ]
  },
  {
   "cell_type": "markdown",
   "metadata": {},
   "source": [
    "The budgets has a high varity going from tens-of-thousands to hundreds-of-millions which tells us that we are working with both indie movies as well as big blockbusters."
   ]
  },
  {
   "cell_type": "code",
   "execution_count": 12,
   "metadata": {},
   "outputs": [
    {
     "name": "stdout",
     "output_type": "stream",
     "text": [
      "[10000, 11178, 11180, 15000, 17000, 20000, 22361, 22361, 22361, 24554]\n",
      "[380000000, 300000000, 280000000, 270000000, 260000000, 260000000, 258000000, 255000000, 250000000, 250000000]\n"
     ]
    }
   ],
   "source": [
    "print sorted(movieBudget.values())[:10]\n",
    "print sorted(movieBudget.values(), reverse = True)[:10]"
   ]
  },
  {
   "cell_type": "markdown",
   "metadata": {},
   "source": [
    "<h3>REVENUE</h3>"
   ]
  },
  {
   "cell_type": "code",
   "execution_count": 13,
   "metadata": {
    "collapsed": true
   },
   "outputs": [],
   "source": [
    "movieRevenue = {}\n",
    "for f in os.listdir(\"DoneMovies/\"):\n",
    "    jsondata = io.open(\"DoneMovies/\" + f, 'r', encoding='utf-8')\n",
    "    sidensJson = json.load(jsondata)\n",
    "    movieRevenue[\"\"+f[:-4]]=sidensJson[\"revenue\"]\n",
    "    jsondata.close()"
   ]
  },
  {
   "cell_type": "markdown",
   "metadata": {},
   "source": [
    "The income has a high varity going from tens-of-thousands to billions."
   ]
  },
  {
   "cell_type": "code",
   "execution_count": 14,
   "metadata": {},
   "outputs": [
    {
     "name": "stdout",
     "output_type": "stream",
     "text": [
      "[10000, 10018, 10289, 10300, 10474, 11276, 11455, 12000, 12762, 13308]\n",
      "[2787965087L, 2068223624, 1845034188, 1519557910, 1513528810, 1506249360, 1405403694, 1342000000, 1274219009, 1262886337]\n"
     ]
    }
   ],
   "source": [
    "print sorted(movieRevenue.values())[:10]\n",
    "print sorted(movieRevenue.values(), reverse = True)[:10]"
   ]
  },
  {
   "cell_type": "markdown",
   "metadata": {},
   "source": [
    "<h3>Gross Income<h3>"
   ]
  },
  {
   "cell_type": "code",
   "execution_count": 15,
   "metadata": {
    "collapsed": true
   },
   "outputs": [],
   "source": [
    "movieIncome = {}\n",
    "for f in os.listdir(\"DoneMovies/\"):\n",
    "    jsondata = io.open(\"DoneMovies/\" + f, 'r', encoding='utf-8')\n",
    "    sidensJson = json.load(jsondata)\n",
    "    movieIncome[\"\"+f[:-4]]=(sidensJson[\"revenue\"] - sidensJson[\"budget\"])\n",
    "    jsondata.close()"
   ]
  },
  {
   "cell_type": "markdown",
   "metadata": {},
   "source": [
    "The gross income has a high varity going from losses of millions to profits of billions which tells us that we are working with both very successfull movies as well as large commerical failures."
   ]
  },
  {
   "cell_type": "code",
   "execution_count": 16,
   "metadata": {},
   "outputs": [
    {
     "name": "stdout",
     "output_type": "stream",
     "text": [
      "[-165710090, -119180039, -111007242, -98301101, -92896027, -87982678, -85321445, -84540684, -80445998, -79627709]\n",
      "[2550965087L, 1823223624, 1645034188, 1363528810, 1316249360, 1299557910, 1217000000, 1125403694, 1124219009, 1102886337]\n"
     ]
    }
   ],
   "source": [
    "print sorted(movieIncome.values())[:10]\n",
    "print sorted(movieIncome.values(), reverse = True)[:10]"
   ]
  },
  {
   "cell_type": "markdown",
   "metadata": {},
   "source": [
    "<h3>Gross Income Ratio</h3>\n",
    "\n",
    "The gross income ratio is a funny attribute as tells whether a movie is a huge sleeper hit, with a very low-budget but a huge income which should make for some big varity in the values."
   ]
  },
  {
   "cell_type": "code",
   "execution_count": 17,
   "metadata": {
    "collapsed": true
   },
   "outputs": [],
   "source": [
    "movieIncomeRatio = {}\n",
    "for f in os.listdir(\"DoneMovies/\"):\n",
    "    jsondata = io.open(\"DoneMovies/\" + f, 'r', encoding='utf-8')\n",
    "    sidensJson = json.load(jsondata)\n",
    "    movieIncomeRatio[\"\"+f[:-4]]=(sidensJson[\"revenue\"] / sidensJson[\"budget\"])\n",
    "    jsondata.close()"
   ]
  },
  {
   "cell_type": "markdown",
   "metadata": {},
   "source": [
    "As expected the values makes a great interval with the low-end ratio's under 1 to insanely high ratio's going as high as 12890. "
   ]
  },
  {
   "cell_type": "code",
   "execution_count": 18,
   "metadata": {},
   "outputs": [
    {
     "name": "stdout",
     "output_type": "stream",
     "text": [
      "[0.00051445, 0.00087395, 0.0011339384615384614, 0.0012, 0.0012882424242424242, 0.0013586666666666667, 0.0014, 0.0015333333333333334, 0.0017472, 0.00205725]\n",
      "[12890.386666666667, 4133.333333333333, 700.0, 439.6165846153846, 426.6441, 420.52272307692306, 262.8199991055856, 250.0, 215.3846153846154, 155.84255]\n"
     ]
    }
   ],
   "source": [
    "print sorted(movieIncomeRatio.values())[:10]\n",
    "print sorted(movieIncomeRatio.values(), reverse = True)[:10]"
   ]
  },
  {
   "cell_type": "markdown",
   "metadata": {
    "collapsed": true
   },
   "source": [
    "<h3>SCATTER PLOTS</h3>\n",
    "\n",
    "We will make some scatterplots to illustrate some of the more interesting correlations that we wish to investigate."
   ]
  },
  {
   "cell_type": "code",
   "execution_count": 19,
   "metadata": {
    "collapsed": true
   },
   "outputs": [],
   "source": [
    "%matplotlib inline\n",
    "import matplotlib.pyplot as plt\n",
    "params = {'legend.fontsize': 'x-large',\n",
    "          'figure.figsize': (15, 5),\n",
    "         'axes.labelsize': 'x-large',\n",
    "         'axes.titlesize':'x-large',\n",
    "         'xtick.labelsize':'x-large',\n",
    "         'ytick.labelsize':'x-large'}\n",
    "plt.rcParams.update(params)"
   ]
  },
  {
   "cell_type": "code",
   "execution_count": 26,
   "metadata": {},
   "outputs": [
    {
     "data": {
      "image/png": "[encoded data removed]",
      "text/plain": [
       "<matplotlib.figure.Figure at 0x1155f2b0>"
      ]
     },
     "metadata": {},
     "output_type": "display_data"
    }
   ],
   "source": [
    "plt.scatter(movieSentiment.values(), movieScore.values())\n",
    "plt.title(\"Review Sentiment vs. Movie Score\")\n",
    "plt.xlabel(\"Review Sentiment\")\n",
    "plt.ylabel(\"Movie Score\")\n",
    "plt.show()"
   ]
  },
  {
   "cell_type": "markdown",
   "metadata": {},
   "source": [
    "The graph shows a scatter-plot between Review Sentiment and Movie Score. The plot shows that there is a small-ish correlation going towards one which means that when a movies score is high, there more then average that results in the reviews also using more sentimental words."
   ]
  },
  {
   "cell_type": "code",
   "execution_count": 28,
   "metadata": {},
   "outputs": [
    {
     "data": {
      "image/png": "[encoded data removed]",
      "text/plain": [
       "<matplotlib.figure.Figure at 0x1196f630>"
      ]
     },
     "metadata": {},
     "output_type": "display_data"
    }
   ],
   "source": [
    "plt.scatter(movieIncomeRatio.values(), movieScore.values())\n",
    "plt.title(\"Income Ratio vs. Movie Score\")\n",
    "plt.xlabel(\"Income Ratio\")\n",
    "plt.ylabel(\"Movie Score\")\n",
    "plt.show()"
   ]
  },
  {
   "cell_type": "markdown",
   "metadata": {},
   "source": [
    "We were interested in whether there could be an correlation between the income ratio and the movie scores as to say that the movies people like the most also makes the most money back. However due to the insane value interval there exist some outliers that makes it hard to come any conclusion. To amend this we will make another plot where we limit the income ratio to at most 75."
   ]
  },
  {
   "cell_type": "code",
   "execution_count": 29,
   "metadata": {},
   "outputs": [
    {
     "data": {
      "image/png": "[encoded data removed]",
      "text/plain": [
       "<matplotlib.figure.Figure at 0x11b1e278>"
      ]
     },
     "metadata": {},
     "output_type": "display_data"
    }
   ],
   "source": [
    "plt.scatter(movieIncomeRatio.values(), movieScore.values())\n",
    "plt.title(\"Income Ratio vs. Movie Score\")\n",
    "plt.xlabel(\"Income Ratio\")\n",
    "plt.ylabel(\"Movie Score\")\n",
    "plt.xlim([0,75])\n",
    "plt.show()"
   ]
  },
  {
   "cell_type": "markdown",
   "metadata": {},
   "source": [
    "The scatterplot shows that there dosen't exist a correlation between the two attributes, seeing as the plot levels out around the movie score of 6.0-7.0."
   ]
  },
  {
   "cell_type": "code",
   "execution_count": 30,
   "metadata": {},
   "outputs": [
    {
     "data": {
      "image/png": "[encoded data removed]",
      "text/plain": [
       "<matplotlib.figure.Figure at 0x11ccfa20>"
      ]
     },
     "metadata": {},
     "output_type": "display_data"
    }
   ],
   "source": [
    "plt.scatter(movieRevenue.values(), movieBudget.values())\n",
    "plt.title(\"Movie Revenue vs. Movie Budget\")\n",
    "plt.xlabel(\"Movie Revenue\")\n",
    "plt.ylabel(\"Movie Budget\")\n",
    "plt.show()"
   ]
  },
  {
   "cell_type": "markdown",
   "metadata": {},
   "source": [
    "The most important correlation for developing movies is whether revnue and budgets has an impact on each other. The scatter-plot shows a clear positive correlation which tells us that pouring money into a movie more often then not means that it will directly influence the income later on."
   ]
  },
  {
   "cell_type": "markdown",
   "metadata": {
    "collapsed": true
   },
   "source": [
    "<h3>Attribute Correlation</h3>\n",
    "\n",
    "The actual correlations will be calculated using the Panda DataFrame. Due to the fact that all movies had its attributes collected in the same order we can simply give the DataFrame the values of each dictionary and have them match up."
   ]
  },
  {
   "cell_type": "code",
   "execution_count": 23,
   "metadata": {
    "collapsed": true
   },
   "outputs": [],
   "source": [
    "import pandas as pd"
   ]
  },
  {
   "cell_type": "code",
   "execution_count": 31,
   "metadata": {
    "collapsed": true
   },
   "outputs": [],
   "source": [
    "datamatrix = pd.DataFrame({'User Score': movieScore.values(),'Sentiment': movieSentiment.values(),'Budget': movieBudget.values(), 'Gross Income': movieIncome.values(), 'Income Ratio': movieIncomeRatio.values(), 'Revenue': movieRevenue.values()})"
   ]
  },
  {
   "cell_type": "code",
   "execution_count": 32,
   "metadata": {},
   "outputs": [
    {
     "data": {
      "text/html": [
       "<div>\n",
       "<style>\n",
       "    .dataframe thead tr:only-child th {\n",
       "        text-align: right;\n",
       "    }\n",
       "\n",
       "    .dataframe thead th {\n",
       "        text-align: left;\n",
       "    }\n",
       "\n",
       "    .dataframe tbody tr th {\n",
       "        vertical-align: top;\n",
       "    }\n",
       "</style>\n",
       "<table border=\"1\" class=\"dataframe\">\n",
       "  <thead>\n",
       "    <tr style=\"text-align: right;\">\n",
       "      <th></th>\n",
       "      <th>Budget</th>\n",
       "      <th>Gross Income</th>\n",
       "      <th>Income Ratio</th>\n",
       "      <th>Revenue</th>\n",
       "      <th>Sentiment</th>\n",
       "      <th>User Score</th>\n",
       "    </tr>\n",
       "  </thead>\n",
       "  <tbody>\n",
       "    <tr>\n",
       "      <th>Budget</th>\n",
       "      <td>1.000000</td>\n",
       "      <td>0.582307</td>\n",
       "      <td>-0.022553</td>\n",
       "      <td>0.727765</td>\n",
       "      <td>-0.069845</td>\n",
       "      <td>0.069169</td>\n",
       "    </tr>\n",
       "    <tr>\n",
       "      <th>Gross Income</th>\n",
       "      <td>0.582307</td>\n",
       "      <td>1.000000</td>\n",
       "      <td>0.025510</td>\n",
       "      <td>0.981338</td>\n",
       "      <td>-0.063111</td>\n",
       "      <td>0.259909</td>\n",
       "    </tr>\n",
       "    <tr>\n",
       "      <th>Income Ratio</th>\n",
       "      <td>-0.022553</td>\n",
       "      <td>0.025510</td>\n",
       "      <td>1.000000</td>\n",
       "      <td>0.016186</td>\n",
       "      <td>-0.016669</td>\n",
       "      <td>0.002273</td>\n",
       "    </tr>\n",
       "    <tr>\n",
       "      <th>Revenue</th>\n",
       "      <td>0.727765</td>\n",
       "      <td>0.981338</td>\n",
       "      <td>0.016186</td>\n",
       "      <td>1.000000</td>\n",
       "      <td>-0.069761</td>\n",
       "      <td>0.235622</td>\n",
       "    </tr>\n",
       "    <tr>\n",
       "      <th>Sentiment</th>\n",
       "      <td>-0.069845</td>\n",
       "      <td>-0.063111</td>\n",
       "      <td>-0.016669</td>\n",
       "      <td>-0.069761</td>\n",
       "      <td>1.000000</td>\n",
       "      <td>0.216589</td>\n",
       "    </tr>\n",
       "    <tr>\n",
       "      <th>User Score</th>\n",
       "      <td>0.069169</td>\n",
       "      <td>0.259909</td>\n",
       "      <td>0.002273</td>\n",
       "      <td>0.235622</td>\n",
       "      <td>0.216589</td>\n",
       "      <td>1.000000</td>\n",
       "    </tr>\n",
       "  </tbody>\n",
       "</table>\n",
       "</div>"
      ],
      "text/plain": [
       "                Budget  Gross Income  Income Ratio   Revenue  Sentiment  \\\n",
       "Budget        1.000000      0.582307     -0.022553  0.727765  -0.069845   \n",
       "Gross Income  0.582307      1.000000      0.025510  0.981338  -0.063111   \n",
       "Income Ratio -0.022553      0.025510      1.000000  0.016186  -0.016669   \n",
       "Revenue       0.727765      0.981338      0.016186  1.000000  -0.069761   \n",
       "Sentiment    -0.069845     -0.063111     -0.016669 -0.069761   1.000000   \n",
       "User Score    0.069169      0.259909      0.002273  0.235622   0.216589   \n",
       "\n",
       "              User Score  \n",
       "Budget          0.069169  \n",
       "Gross Income    0.259909  \n",
       "Income Ratio    0.002273  \n",
       "Revenue         0.235622  \n",
       "Sentiment       0.216589  \n",
       "User Score      1.000000  "
      ]
     },
     "execution_count": 32,
     "metadata": {},
     "output_type": "execute_result"
    }
   ],
   "source": [
    "datamatrix.corr()"
   ]
  },
  {
   "cell_type": "markdown",
   "metadata": {
    "collapsed": true
   },
   "source": [
    "The outcome of the correlation-matrix for the movie attributes gave some interesting results. Firstly as earlier show in the scatter-plots the budget and income has high correlation with each other. This also the case with the gross income, which isn't suprising considering it was calculated using both of them. However the income ratio shows no correlation at all between any of the other attributes which is a surprise. The most interesting results came with the sentiment and user scores. The sentiment didn't have a correlation to the income or budget of any movies but showed a correlation with the movie score which proves the hypothesis that people who like a movie more tends to write more sentimentality about it. The user score in contrast to the sentiment showed smaller correlations with the revenue and gross income which tells us that the more people like a movie the more likely it is to make money."
   ]
  }
 ],
 "metadata": {
  "kernelspec": {
   "display_name": "Python 2",
   "language": "python",
   "name": "python2"
  },
  "language_info": {
   "codemirror_mode": {
    "name": "ipython",
    "version": 2
   },
   "file_extension": ".py",
   "mimetype": "text/x-python",
   "name": "python",
   "nbconvert_exporter": "python",
   "pygments_lexer": "ipython2",
   "version": "2.7.13"
  }
 },
 "nbformat": 4,
 "nbformat_minor": 2
}
