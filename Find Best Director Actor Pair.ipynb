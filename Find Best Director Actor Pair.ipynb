{
 "cells": [
  {
   "cell_type": "code",
   "execution_count": 2,
   "metadata": {
    "collapsed": true
   },
   "outputs": [],
   "source": [
    "import urllib2\n",
    "import json\n",
    "import re\n",
    "import io\n",
    "import copy\n",
    "import nltk, re, pprint\n",
    "import os\n",
    "import time\n",
    "import calendar\n",
    "import datetime\n",
    "from threading import Thread\n",
    "from time import sleep"
   ]
  },
  {
   "cell_type": "code",
   "execution_count": null,
   "metadata": {
    "collapsed": true
   },
   "outputs": [],
   "source": []
  },
  {
   "cell_type": "code",
   "execution_count": 15,
   "metadata": {},
   "outputs": [],
   "source": [
    "revenueList = []\n",
    "scoreList = []\n",
    "count = 0\n",
    "for filename in os.listdir('ActorDirectorPair'):\n",
    "    test = io.open(\"ActorDirectorPair/\" + filename, 'r', encoding='utf-8')\n",
    "    doneList = test.readlines()\n",
    "    doneList = [x.strip() for x in doneList]\n",
    "    test.close()\n",
    "    revenue = 0.0\n",
    "    score = 0.0\n",
    "    for i in doneList:\n",
    "        filmen = io.open(\"MovieDBID/\" + i + \".txt\", 'r', encoding='utf-8')\n",
    "        filmJson = json.load(filmen)\n",
    "        revenue = revenue + filmJson[\"revenue\"]\n",
    "        score = score + filmJson[\"vote_average\"]\n",
    "        filmen.close()\n",
    "    revenue = revenue / len(doneList)\n",
    "    score = score / len(doneList)\n",
    "    \n",
    "    revenueList.append([filename[:-4], revenue])\n",
    "    scoreList.append([filename[:-4], score])\n",
    "    #print count\n",
    "    count = count + 1\n",
    "    #break"
   ]
  },
  {
   "cell_type": "code",
   "execution_count": 19,
   "metadata": {},
   "outputs": [
    {
     "name": "stdout",
     "output_type": "stream",
     "text": [
      "Harvey Keitel and Quentin Tarantino\n",
      "Reservoir Dogs\n",
      "Pulp Fiction\n"
     ]
    }
   ],
   "source": [
    "revenueSorted = sorted(revenueList, key=lambda tup: tup[1], reverse=True)\n",
    "scoreSorted = sorted(scoreList, key=lambda tup: tup[1], reverse=True)\n",
    "names = scoreSorted[0][0]\n",
    "name1 = names[:names.find(\"-\")]\n",
    "name2 = names[names.find(\"-\") +1:]\n",
    "filmen = io.open(\"ActorDirectorPair/\" + names + \".txt\", 'r', encoding='utf-8')\n",
    "doneList = filmen.readlines()\n",
    "doneList = [x.strip() for x in doneList]\n",
    "filmen.close()\n",
    "\n",
    "person1 = io.open(\"ActorJson/\" + name1 + \".txt\", 'r', encoding='utf-8')\n",
    "name1Json = json.load(person1)\n",
    "name1Done = name1Json[\"name\"]\n",
    "person1.close()\n",
    "\n",
    "person2 = io.open(\"DirectorJson/\" + name2 + \".txt\", 'r', encoding='utf-8')\n",
    "name2Json = json.load(person2)\n",
    "name2Done = name2Json[\"name\"]\n",
    "person1.close()\n",
    "\n",
    "print name1Done, \"and\", name2Done\n",
    "for i in doneList:\n",
    "    filmen2 = io.open(\"MovieDBID/\" + i + \".txt\", 'r', encoding='utf-8')\n",
    "    filmJson = json.load(filmen2)\n",
    "    print filmJson[\"title\"]\n",
    "    filmen.close()"
   ]
  },
  {
   "cell_type": "code",
   "execution_count": 18,
   "metadata": {},
   "outputs": [
    {
     "name": "stdout",
     "output_type": "stream",
     "text": [
      "Harvey Keitel and Quentin Tarantino\n",
      "Reservoir Dogs\n",
      "Pulp Fiction\n"
     ]
    }
   ],
   "source": [
    "names = scoreSorted[0][0]\n",
    "name1 = names[:names.find(\"-\")]\n",
    "name2 = names[names.find(\"-\") +1:]\n",
    "filmen = io.open(\"ActorDirectorPair/\" + names + \".txt\", 'r', encoding='utf-8')\n",
    "doneList = filmen.readlines()\n",
    "doneList = [x.strip() for x in doneList]\n",
    "filmen.close()\n",
    "\n",
    "person1 = io.open(\"ActorJson/\" + name1 + \".txt\", 'r', encoding='utf-8')\n",
    "name1Json = json.load(person1)\n",
    "name1Done = name1Json[\"name\"]\n",
    "person1.close()\n",
    "\n",
    "person2 = io.open(\"DirectorJson/\" + name2 + \".txt\", 'r', encoding='utf-8')\n",
    "name2Json = json.load(person2)\n",
    "name2Done = name2Json[\"name\"]\n",
    "person1.close()\n",
    "\n",
    "print name1Done, \"and\", name2Done\n",
    "for i in doneList:\n",
    "    filmen2 = io.open(\"MovieDBID/\" + i + \".txt\", 'r', encoding='utf-8')\n",
    "    filmJson = json.load(filmen2)\n",
    "    print filmJson[\"title\"]\n",
    "    filmen.close()"
   ]
  },
  {
   "cell_type": "code",
   "execution_count": null,
   "metadata": {},
   "outputs": [],
   "source": []
  },
  {
   "cell_type": "code",
   "execution_count": null,
   "metadata": {
    "collapsed": true
   },
   "outputs": [],
   "source": []
  },
  {
   "cell_type": "code",
   "execution_count": null,
   "metadata": {
    "collapsed": true
   },
   "outputs": [],
   "source": []
  },
  {
   "cell_type": "code",
   "execution_count": null,
   "metadata": {
    "collapsed": true
   },
   "outputs": [],
   "source": []
  },
  {
   "cell_type": "code",
   "execution_count": null,
   "metadata": {
    "collapsed": true
   },
   "outputs": [],
   "source": []
  },
  {
   "cell_type": "code",
   "execution_count": null,
   "metadata": {
    "collapsed": true
   },
   "outputs": [],
   "source": []
  }
 ],
 "metadata": {
  "kernelspec": {
   "display_name": "Python 2",
   "language": "python",
   "name": "python2"
  },
  "language_info": {
   "codemirror_mode": {
    "name": "ipython",
    "version": 2
   },
   "file_extension": ".py",
   "mimetype": "text/x-python",
   "name": "python",
   "nbconvert_exporter": "python",
   "pygments_lexer": "ipython2",
   "version": "2.7.13"
  }
 },
 "nbformat": 4,
 "nbformat_minor": 2
}
