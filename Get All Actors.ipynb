{
 "cells": [
  {
   "cell_type": "code",
   "execution_count": 18,
   "metadata": {
    "collapsed": true
   },
   "outputs": [],
   "source": [
    "import urllib2\n",
    "import json\n",
    "import re\n",
    "import io\n",
    "import copy\n",
    "import nltk, re, pprint\n",
    "import os\n",
    "import time\n",
    "import calendar\n",
    "import datetime\n",
    "from threading import Thread\n",
    "from time import sleep"
   ]
  },
  {
   "cell_type": "code",
   "execution_count": null,
   "metadata": {
    "collapsed": true
   },
   "outputs": [],
   "source": []
  },
  {
   "cell_type": "code",
   "execution_count": 19,
   "metadata": {
    "collapsed": true
   },
   "outputs": [],
   "source": [
    "for filename in os.listdir('Credits'):\n",
    "    test = io.open(\"Credits/\" + filename, 'r', encoding='utf-8')\n",
    "    sidensJson = json.load(test)\n",
    "    test.close()\n",
    "    castList = []\n",
    "    for i in sidensJson[\"cast\"]:\n",
    "        if(i[\"character\"].rfind(\"uncredited\") == -1):\n",
    "            try:\n",
    "                if str(i[\"id\"]) not in castList:\n",
    "                    f = io.open(\"Actors/\" + str(i[\"id\"]) + \".txt\", 'a', encoding='utf-8')\n",
    "                    f.write(unicode(filename[:-4]) + \"\\n\")\n",
    "                    f.close()\n",
    "                    castList.append(str(i[\"id\"]))\n",
    "                else:\n",
    "                    pass\n",
    "            except:\n",
    "                f = io.open(\"Actors/\" + str(i[\"id\"]) + \".txt\", 'w', encoding='utf-8')\n",
    "                f.write(unicode(filename[:-4]) + \"\\n\")\n",
    "                f.close()\n",
    "                castList.append(str(i[\"id\"]))\n",
    "    #break"
   ]
  },
  {
   "cell_type": "code",
   "execution_count": null,
   "metadata": {
    "collapsed": true
   },
   "outputs": [],
   "source": []
  },
  {
   "cell_type": "code",
   "execution_count": null,
   "metadata": {
    "collapsed": true
   },
   "outputs": [],
   "source": []
  },
  {
   "cell_type": "code",
   "execution_count": null,
   "metadata": {
    "collapsed": true
   },
   "outputs": [],
   "source": []
  },
  {
   "cell_type": "code",
   "execution_count": 18,
   "metadata": {
    "collapsed": true
   },
   "outputs": [],
   "source": [
    "test = io.open(\"Credits/\" + \"597.txt\", 'r', encoding='utf-8')\n",
    "sidensJson = json.load(test)\n",
    "test.close()\n",
    "castList = []\n",
    "for i in sidensJson[\"cast\"]:\n",
    "    if(i[\"character\"].rfind(\"uncredited\") == -1):\n",
    "        try:\n",
    "            if str(i[\"id\"]) not in castList:\n",
    "                f = io.open(\"Actors/\" + str(i[\"id\"]) + \".txt\", 'a', encoding='utf-8')\n",
    "                f.write(unicode(\"597\") + \"\\n\")\n",
    "                f.close()\n",
    "                castList.append(str(i[\"id\"]))\n",
    "            else:\n",
    "                pass\n",
    "        except:\n",
    "            f = io.open(\"Actors/\" + str(i[\"id\"]) + \".txt\", 'w', encoding='utf-8')\n",
    "            f.write(unicode(\"597\") + \"\\n\")\n",
    "            f.close()\n",
    "            castList.append(str(i[\"id\"]))"
   ]
  },
  {
   "cell_type": "code",
   "execution_count": null,
   "metadata": {
    "collapsed": true
   },
   "outputs": [],
   "source": []
  },
  {
   "cell_type": "code",
   "execution_count": null,
   "metadata": {
    "collapsed": true
   },
   "outputs": [],
   "source": []
  },
  {
   "cell_type": "code",
   "execution_count": null,
   "metadata": {
    "collapsed": true
   },
   "outputs": [],
   "source": []
  },
  {
   "cell_type": "code",
   "execution_count": 3,
   "metadata": {
    "collapsed": true
   },
   "outputs": [],
   "source": [
    "test = io.open(\"Credits/\" + \"68721.txt\", 'r', encoding='utf-8')\n",
    "sidensJson = json.load(test)\n",
    "test.close()\n",
    "castList = []\n",
    "\n",
    "#break"
   ]
  },
  {
   "cell_type": "code",
   "execution_count": 13,
   "metadata": {},
   "outputs": [
    {
     "name": "stdout",
     "output_type": "stream",
     "text": [
      "Tony Stark / Iron Man\n",
      "Virginia \"Pepper\" Potts\n",
      "Colonel James \" Rhodey\" Rhodes\n",
      "Aldrich Killian / The Mandarin\n",
      "Maya Hansen\n",
      "Happy Hogan\n",
      "Trevor Slattery\n",
      "Savin\n",
      "Brandt\n",
      "Jarvis (voice)\n",
      "President Ellis\n",
      "Mrs. Davis\n",
      "Harley Keener\n",
      "Vice President Rodriguez\n",
      "Doctor Wu (as Wang Xueqi)\n",
      "Ho Yinsen\n",
      "Annoying Conference Guy\n",
      "Himself\n",
      "Himself\n",
      "Herself\n",
      "Himself\n",
      "Himself\n",
      "Herself\n",
      "Himself\n",
      "Neptune's Net Girl\n",
      "Neptune's Net Boy\n",
      "Taggert\n",
      "Happy's Nurse\n",
      "Hospital Nurse Reporter\n",
      "Pushy Tabloid Reporter\n",
      "Helicopter Pilot #1\n",
      "Helicopter Pilot #2\n",
      "Reporter at House Wreckage\n",
      "Mandarin Studio Technician\n",
      "Mandarin Look-Out\n",
      "Rose Hills Sherrif\n",
      "Rose Hill Deputy / Extremis Soldier\n",
      "Rose Hill Christmas Tree Shopper\n",
      "Junior Technician (as Sarah Burkharat)\n",
      "Senior Technician\n",
      "Satellite Technician (as Andy Lauer)\n",
      "Technical Director\n",
      "Vice President's Analyst\n",
      "Thomas Richards\n",
      "President's Aide\n",
      "Scared Insurgent\n",
      "Laughing Insurgent\n",
      "Pageant Emcee\n",
      "Miss Elk Ridge\n",
      "Pageant Judge\n",
      "Gary the Cameraman\n",
      "Chad Davis\n",
      "Extremis Candidate\n",
      "Room Service Waiter / Extremis Soldier\n",
      "Sweat Shop Agent\n",
      "Mandarin Guard\n",
      "Mandarin Guard (as Juan Bofill)\n",
      "Mandarin Guard\n",
      "Mandarin Guard\n",
      "Mandarin Guard (as Paul O'Connor)\n",
      "Mandarin Guard\n",
      "Sleepy Mandarin Girl\n",
      "Annoyed Mandarin Guard\n",
      "Mandarin Party Girl #1\n",
      "Mandarin Party Girl #2\n",
      "Tony's Guard\n",
      "Ponytail Express\n",
      "Reluctant AIM Guard\n",
      "AIM Ping Pong Girl\n",
      "AIM Ping Pong Girl\n",
      "AIM Ping Pong Girl\n",
      "Secret Service Agent\n",
      "Vice President's Daughter\n",
      "Iron Patriot Fan #1\n",
      "Iron Patriot Fan #2\n",
      "Air Force One Officer\n",
      "Navy Op\n",
      "Commander\n",
      "Heather\n",
      "Extremis Soldier\n",
      "Extremis Soldier\n",
      "Extremis Soldier\n",
      "Extremis Soldier\n",
      "Extremis Soldier\n",
      "Extremis Soldier\n",
      "Extremis Soldier\n",
      "Extremis Soldier\n",
      "Extremis Soldier\n",
      "Extremis Soldier\n",
      "Extremis Soldier\n",
      "Extremis Soldier\n",
      "Extremis Soldier\n",
      "Extremis Soldier\n",
      "Extremis Soldier\n",
      "Extremis Soldier\n",
      "Extremis Soldier\n",
      "Extremis Soldier\n",
      "Extremis Soldier\n",
      "Extremis Soldier\n",
      "Extremis Soldier\n",
      "Extremis Soldier\n",
      "Extremis Soldier\n",
      "Extremis Soldier\n"
     ]
    }
   ],
   "source": [
    "for i in sidensJson[\"cast\"]:\n",
    "    if(i[\"character\"].rfind(\"uncredited\") == -1):\n",
    "        print i[\"character\"]"
   ]
  },
  {
   "cell_type": "code",
   "execution_count": 9,
   "metadata": {},
   "outputs": [
    {
     "data": {
      "text/plain": [
       "-1"
      ]
     },
     "execution_count": 9,
     "metadata": {},
     "output_type": "execute_result"
    }
   ],
   "source": [
    "navn.rfind(\"uncredited\")"
   ]
  },
  {
   "cell_type": "code",
   "execution_count": null,
   "metadata": {
    "collapsed": true
   },
   "outputs": [],
   "source": [
    "for i in sidensJson[\"cast\"]:\n",
    "\n",
    "    try:\n",
    "        if str(i[\"id\"]) not in castList:\n",
    "            f = io.open(\"Actors/\" + str(i[\"id\"]) + \".txt\", 'a', encoding='utf-8')\n",
    "            f.write(unicode(filename[:-4]) + \"\\n\")\n",
    "            f.close()\n",
    "            castList.append(str(i[\"id\"]))\n",
    "        else:\n",
    "            pass\n",
    "    except:\n",
    "        f = io.open(\"Actors/\" + str(i[\"id\"]) + \".txt\", 'w', encoding='utf-8')\n",
    "        f.write(unicode(filename[:-4]) + \"\\n\")\n",
    "        f.close()\n",
    "        castList.append(str(i[\"id\"]))"
   ]
  },
  {
   "cell_type": "code",
   "execution_count": 29,
   "metadata": {
    "collapsed": true
   },
   "outputs": [],
   "source": []
  },
  {
   "cell_type": "code",
   "execution_count": null,
   "metadata": {
    "collapsed": true
   },
   "outputs": [],
   "source": []
  },
  {
   "cell_type": "code",
   "execution_count": null,
   "metadata": {
    "collapsed": true
   },
   "outputs": [],
   "source": []
  },
  {
   "cell_type": "code",
   "execution_count": null,
   "metadata": {
    "collapsed": true
   },
   "outputs": [],
   "source": []
  },
  {
   "cell_type": "code",
   "execution_count": null,
   "metadata": {
    "collapsed": true
   },
   "outputs": [],
   "source": []
  },
  {
   "cell_type": "code",
   "execution_count": null,
   "metadata": {
    "collapsed": true
   },
   "outputs": [],
   "source": []
  },
  {
   "cell_type": "code",
   "execution_count": null,
   "metadata": {
    "collapsed": true
   },
   "outputs": [],
   "source": []
  },
  {
   "cell_type": "code",
   "execution_count": 26,
   "metadata": {},
   "outputs": [
    {
     "data": {
      "text/plain": [
       "[{u'cast_id': 12,\n",
       "  u'character': u'Tom',\n",
       "  u'credit_id': u'52fe4217c3a36847f80035fb',\n",
       "  u'gender': 2,\n",
       "  u'id': 973,\n",
       "  u'name': u'Jason Flemyng',\n",
       "  u'order': 0,\n",
       "  u'profile_path': u'/kzzQoiO3bbi2UeDJL9QtBT5jaQn.jpg'},\n",
       " {u'cast_id': 13,\n",
       "  u'character': u'Soap',\n",
       "  u'credit_id': u'52fe4217c3a36847f80035ff',\n",
       "  u'gender': 2,\n",
       "  u'id': 974,\n",
       "  u'name': u'Dexter Fletcher',\n",
       "  u'order': 1,\n",
       "  u'profile_path': u'/did9anJiAFYvTbeQyNZaxts7GaT.jpg'},\n",
       " {u'cast_id': 14,\n",
       "  u'character': u'Eddie',\n",
       "  u'credit_id': u'52fe4217c3a36847f8003603',\n",
       "  u'gender': 2,\n",
       "  u'id': 975,\n",
       "  u'name': u'Nick Moran',\n",
       "  u'order': 2,\n",
       "  u'profile_path': u'/jf5M1SxmWFOm8lsOmxlFGSaUSm6.jpg'},\n",
       " {u'cast_id': 15,\n",
       "  u'character': u'Bacon',\n",
       "  u'credit_id': u'52fe4217c3a36847f8003607',\n",
       "  u'gender': 2,\n",
       "  u'id': 976,\n",
       "  u'name': u'Jason Statham',\n",
       "  u'order': 3,\n",
       "  u'profile_path': u'/PhWiWgasncGWD9LdbsGcmxkV4r.jpg'},\n",
       " {u'cast_id': 17,\n",
       "  u'character': u'Big Chris',\n",
       "  u'credit_id': u'52fe4217c3a36847f800360f',\n",
       "  u'gender': 2,\n",
       "  u'id': 980,\n",
       "  u'name': u'Vinnie Jones',\n",
       "  u'order': 4,\n",
       "  u'profile_path': u'/1QQea9t0JkRVVVbgVtpGAQuf0x5.jpg'},\n",
       " {u'cast_id': 18,\n",
       "  u'character': u'JD',\n",
       "  u'credit_id': u'52fe4217c3a36847f8003613',\n",
       "  u'gender': 2,\n",
       "  u'id': 982,\n",
       "  u'name': u'Sting',\n",
       "  u'order': 5,\n",
       "  u'profile_path': u'/cnhlJfHWfNU0ig6hidOiXuvew7o.jpg'},\n",
       " {u'cast_id': 16,\n",
       "  u'character': u'Winston',\n",
       "  u'credit_id': u'52fe4217c3a36847f800360b',\n",
       "  u'gender': 2,\n",
       "  u'id': 978,\n",
       "  u'name': u'Steven Mackintosh',\n",
       "  u'order': 6,\n",
       "  u'profile_path': u'/3TQVLNfMiiBAcoaCbmWckxXqagN.jpg'},\n",
       " {u'cast_id': 19,\n",
       "  u'character': u'J',\n",
       "  u'credit_id': u'52fe4217c3a36847f8003617',\n",
       "  u'gender': 2,\n",
       "  u'id': 984,\n",
       "  u'name': u'Nicholas Rowe',\n",
       "  u'order': 7,\n",
       "  u'profile_path': u'/iA32qMujonoTzU1DdlnTRemBvRQ.jpg'},\n",
       " {u'cast_id': 22,\n",
       "  u'character': u'Barry the Baptist',\n",
       "  u'credit_id': u'52fe4217c3a36847f8003623',\n",
       "  u'gender': 2,\n",
       "  u'id': 987,\n",
       "  u'name': u'Lenny McLean',\n",
       "  u'order': 8,\n",
       "  u'profile_path': u'/A3WqhQxdL7fZJ5ZcVHoLlksG4Np.jpg'},\n",
       " {u'cast_id': 24,\n",
       "  u'character': u\"'Hatchet' Harry Lonsdale\",\n",
       "  u'credit_id': u'52fe4217c3a36847f800362b',\n",
       "  u'gender': 0,\n",
       "  u'id': 989,\n",
       "  u'name': u'P.H. Moriarty',\n",
       "  u'order': 9,\n",
       "  u'profile_path': u'/m9CqdPkzxVgOEMSdBCX0LqECNzu.jpg'},\n",
       " {u'cast_id': 25,\n",
       "  u'character': u'Dog',\n",
       "  u'credit_id': u'52fe4217c3a36847f800362f',\n",
       "  u'gender': 2,\n",
       "  u'id': 990,\n",
       "  u'name': u'Frank Harper',\n",
       "  u'order': 10,\n",
       "  u'profile_path': u'/6MaOt1Q6Js7jiA3qsHIcSGY1bbf.jpg'},\n",
       " {u'cast_id': 27,\n",
       "  u'character': u'Paul',\n",
       "  u'credit_id': u'52fe4217c3a36847f8003637',\n",
       "  u'gender': 2,\n",
       "  u'id': 992,\n",
       "  u'name': u'Huggy Leaver',\n",
       "  u'order': 11,\n",
       "  u'profile_path': u'/xcfx1ELLNth5UZIM4lOpMK3GG0k.jpg'},\n",
       " {u'cast_id': 29,\n",
       "  u'character': u'Nick the Greek',\n",
       "  u'credit_id': u'52fe4217c3a36847f800363f',\n",
       "  u'gender': 2,\n",
       "  u'id': 994,\n",
       "  u'name': u'Stephen Marcus',\n",
       "  u'order': 12,\n",
       "  u'profile_path': u'/ozWv6pWjvbY2c788SHXe4dLm33l.jpg'},\n",
       " {u'cast_id': 23,\n",
       "  u'character': u'Little Chris',\n",
       "  u'credit_id': u'52fe4217c3a36847f8003627',\n",
       "  u'gender': 2,\n",
       "  u'id': 988,\n",
       "  u'name': u'Peter McNicholl',\n",
       "  u'order': 13,\n",
       "  u'profile_path': None},\n",
       " {u'cast_id': 20,\n",
       "  u'character': u'Charles',\n",
       "  u'credit_id': u'52fe4217c3a36847f800361b',\n",
       "  u'gender': 0,\n",
       "  u'id': 985,\n",
       "  u'name': u'Nick Marcq',\n",
       "  u'order': 14,\n",
       "  u'profile_path': None},\n",
       " {u'cast_id': 28,\n",
       "  u'character': u'John',\n",
       "  u'credit_id': u'52fe4217c3a36847f800363b',\n",
       "  u'gender': 2,\n",
       "  u'id': 993,\n",
       "  u'name': u'Tony McMahon',\n",
       "  u'order': 15,\n",
       "  u'profile_path': None},\n",
       " {u'cast_id': 26,\n",
       "  u'character': u'Plank',\n",
       "  u'credit_id': u'52fe4217c3a36847f8003633',\n",
       "  u'gender': 2,\n",
       "  u'id': 991,\n",
       "  u'name': u'Steve Sweeney',\n",
       "  u'order': 16,\n",
       "  u'profile_path': None},\n",
       " {u'cast_id': 21,\n",
       "  u'character': u'Willie',\n",
       "  u'credit_id': u'52fe4217c3a36847f800361f',\n",
       "  u'gender': 2,\n",
       "  u'id': 986,\n",
       "  u'name': u'Charles Forbes',\n",
       "  u'order': 17,\n",
       "  u'profile_path': None},\n",
       " {u'cast_id': 30,\n",
       "  u'character': u'Rory Breaker',\n",
       "  u'credit_id': u'52fe4217c3a36847f8003643',\n",
       "  u'gender': 2,\n",
       "  u'id': 995,\n",
       "  u'name': u'Vas Blackwood',\n",
       "  u'order': 18,\n",
       "  u'profile_path': u'/h9JfWxJyG38n2JZFJ6LmUU3kG4k.jpg'},\n",
       " {u'cast_id': 31,\n",
       "  u'character': u'Dean',\n",
       "  u'credit_id': u'52fe4217c3a36847f8003647',\n",
       "  u'gender': 2,\n",
       "  u'id': 4317,\n",
       "  u'name': u'Jake Abraham',\n",
       "  u'order': 19,\n",
       "  u'profile_path': u'/aYlJxqdfiunLzCnbWuyktA7WzAS.jpg'},\n",
       " {u'cast_id': 32,\n",
       "  u'character': u'Gary',\n",
       "  u'credit_id': u'52fe4217c3a36847f800364b',\n",
       "  u'gender': 2,\n",
       "  u'id': 4318,\n",
       "  u'name': u'Victor McGuire',\n",
       "  u'order': 20,\n",
       "  u'profile_path': u'/czEQ0XdYIURxBfdiAdGXS6KAWea.jpg'},\n",
       " {u'cast_id': 35,\n",
       "  u'character': u'Barfly Jack',\n",
       "  u'credit_id': u'550c8bc89251413443001cbb',\n",
       "  u'gender': 0,\n",
       "  u'id': 115787,\n",
       "  u'name': u'Danny John-Jules',\n",
       "  u'order': 21,\n",
       "  u'profile_path': u'/vAXwBWlPxNv2tQwFTtfeeF23RuT.jpg'},\n",
       " {u'cast_id': 36,\n",
       "  u'character': u'Nathan',\n",
       "  u'credit_id': u'56d9cf72c3a36870ac0109c2',\n",
       "  u'gender': 2,\n",
       "  u'id': 1473866,\n",
       "  u'name': u\"Elwin 'Chopper' David\",\n",
       "  u'order': 22,\n",
       "  u'profile_path': u'/sIHgp7BIkbfXkxvSNlfYYHA7smf.jpg'},\n",
       " {u'cast_id': 37,\n",
       "  u'character': u'Tanya',\n",
       "  u'credit_id': u'57676387c3a36840b4000d4a',\n",
       "  u'gender': 1,\n",
       "  u'id': 236388,\n",
       "  u'name': u'Vera Day',\n",
       "  u'order': 23,\n",
       "  u'profile_path': u'/luju5IYvH4Lnhjj7aW0H6AaFZZt.jpg'},\n",
       " {u'cast_id': 38,\n",
       "  u'character': u'Traffic Warden',\n",
       "  u'credit_id': u'588289d5925141303e01291d',\n",
       "  u'gender': 2,\n",
       "  u'id': 47632,\n",
       "  u'name': u'Rob Brydon',\n",
       "  u'order': 24,\n",
       "  u'profile_path': u'/iCa4EjmVk9DT9YywWGgPSgjDok2.jpg'},\n",
       " {u'cast_id': 39,\n",
       "  u'character': u'Alan / Narrator',\n",
       "  u'credit_id': u'588289e9c3a368146701265e',\n",
       "  u'gender': 2,\n",
       "  u'id': 1116,\n",
       "  u'name': u'Alan Ford',\n",
       "  u'order': 25,\n",
       "  u'profile_path': u'/3HtCLGRkuLmObyp1oJNJzplxOkI.jpg'},\n",
       " {u'cast_id': 40,\n",
       "  u'character': u'Man in Pub',\n",
       "  u'credit_id': u'588289fd925141303a012ecb',\n",
       "  u'gender': 2,\n",
       "  u'id': 17290,\n",
       "  u'name': u'Andrew Tiernan',\n",
       "  u'order': 26,\n",
       "  u'profile_path': u'/891RIqhOno9VLsYPIfzQsqytQZb.jpg'}]"
      ]
     },
     "execution_count": 26,
     "metadata": {},
     "output_type": "execute_result"
    }
   ],
   "source": [
    "sidensJson[\"cast\"]"
   ]
  },
  {
   "cell_type": "code",
   "execution_count": null,
   "metadata": {
    "collapsed": true
   },
   "outputs": [],
   "source": []
  },
  {
   "cell_type": "code",
   "execution_count": null,
   "metadata": {
    "collapsed": true
   },
   "outputs": [],
   "source": []
  },
  {
   "cell_type": "code",
   "execution_count": null,
   "metadata": {
    "collapsed": true
   },
   "outputs": [],
   "source": []
  },
  {
   "cell_type": "code",
   "execution_count": null,
   "metadata": {
    "collapsed": true
   },
   "outputs": [],
   "source": []
  },
  {
   "cell_type": "code",
   "execution_count": null,
   "metadata": {
    "collapsed": true
   },
   "outputs": [],
   "source": []
  },
  {
   "cell_type": "code",
   "execution_count": null,
   "metadata": {
    "collapsed": true
   },
   "outputs": [],
   "source": []
  },
  {
   "cell_type": "code",
   "execution_count": null,
   "metadata": {
    "collapsed": true
   },
   "outputs": [],
   "source": []
  },
  {
   "cell_type": "code",
   "execution_count": null,
   "metadata": {
    "collapsed": true
   },
   "outputs": [],
   "source": []
  },
  {
   "cell_type": "code",
   "execution_count": null,
   "metadata": {
    "collapsed": true
   },
   "outputs": [],
   "source": []
  },
  {
   "cell_type": "code",
   "execution_count": null,
   "metadata": {
    "collapsed": true
   },
   "outputs": [],
   "source": []
  },
  {
   "cell_type": "code",
   "execution_count": null,
   "metadata": {
    "collapsed": true
   },
   "outputs": [],
   "source": []
  },
  {
   "cell_type": "code",
   "execution_count": null,
   "metadata": {
    "collapsed": true
   },
   "outputs": [],
   "source": []
  }
 ],
 "metadata": {
  "kernelspec": {
   "display_name": "Python 2",
   "language": "python",
   "name": "python2"
  },
  "language_info": {
   "codemirror_mode": {
    "name": "ipython",
    "version": 2
   },
   "file_extension": ".py",
   "mimetype": "text/x-python",
   "name": "python",
   "nbconvert_exporter": "python",
   "pygments_lexer": "ipython2",
   "version": "2.7.13"
  }
 },
 "nbformat": 4,
 "nbformat_minor": 2
}
