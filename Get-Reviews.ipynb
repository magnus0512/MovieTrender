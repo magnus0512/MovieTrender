{
 "cells": [
  {
   "cell_type": "code",
   "execution_count": 2,
   "metadata": {
    "collapsed": true
   },
   "outputs": [],
   "source": [
    "import urllib2\n",
    "import json\n",
    "import re\n",
    "import io\n",
    "import copy\n",
    "import nltk, re, pprint\n",
    "import os\n",
    "import time\n",
    "import calendar\n",
    "import datetime\n",
    "from threading import Thread\n",
    "from time import sleep\n",
    "from __future__ import division\n",
    "import codecs"
   ]
  },
  {
   "cell_type": "code",
   "execution_count": 127,
   "metadata": {},
   "outputs": [
    {
     "name": "stdout",
     "output_type": "stream",
     "text": [
      "95\n"
     ]
    }
   ],
   "source": [
    "y = 0\n",
    "for f in os.listdir(\"DoneMoviesReviews/\"):\n",
    "    if f[-4:] == \".txt\" and (not os.path.isfile(\"DoneMovies2/\" + f)):                          \n",
    "        try:\n",
    "            os.remove(\"DoneMoviesReviews/\" + f)\n",
    "            y = y+1\n",
    "        except OSError:\n",
    "            pass\n",
    "print y   "
   ]
  },
  {
   "cell_type": "code",
   "execution_count": null,
   "metadata": {
    "collapsed": true
   },
   "outputs": [],
   "source": [
    "import urllib2\n",
    "import codecs\n",
    "from HTMLParser import HTMLParser\n",
    "import os\n",
    "totalNumberOfFiles = len(os.listdir(\"DoneMovies/\"))\n",
    "countt = 0\n",
    "for f in os.listdir(\"DoneMovies/\"):\n",
    "    if f[-4:] == \".txt\" and (not os.path.isfile(\"DoneMoviesReviews/\" + f) or os.path.getsize(\"DoneMoviesReviews/\" + f) == 0):\n",
    "        idd = f[:-4]\n",
    "\n",
    "        response = urllib2.urlopen('http://www.imdb.com/title/' + idd + '/reviews')\n",
    "        html2 = response.read()\n",
    "\n",
    "        div = html2.split(\"tn15content\")[1]\n",
    "        parts = div.split(\"<b>Author:</b>\")\n",
    "        parts.pop(0)\n",
    "        h = HTMLParser()\n",
    "        res = []\n",
    "        for part in parts:\n",
    "            try:\n",
    "                dataa = h.unescape(part.split(\"</div>\\n<p>\")[1].split(\"</p>\")[0].replace(\"<br>\", \"\\n\"))\n",
    "                f = codecs.open(\"temp.txxt\", \"w\", \"utf-8\")\n",
    "                f.write(\"<|_=00=_|>\".join([dataa]))\n",
    "                f.close()\n",
    "                res.append(dataa)\n",
    "            except Exception as e:\n",
    "                pass            \n",
    "        try:\n",
    "            f = codecs.open(\"DoneMoviesReviews/\" + idd + \".txt\", \"w\", \"utf-8\")\n",
    "            f.write(\"<|_=00=_|>\".join(res))\n",
    "            f.close()\n",
    "        except Exception as e:\n",
    "            pass\n",
    "    countt += 1\n",
    "    print countt / float(totalNumberOfFiles)"
   ]
  },
  {
   "cell_type": "markdown",
   "metadata": {},
   "source": [
    "<h3>SENTIMENT</h3>"
   ]
  },
  {
   "cell_type": "code",
   "execution_count": 19,
   "metadata": {},
   "outputs": [],
   "source": [
    "with codecs.open(\"DoneMoviesReviews/\" + \"tt0466839\" + \".txt\", \"r\", \"utf-8\") as myfile:\n",
    "    datatest=myfile.read().replace('\\n', '')\n",
    "    datatest=datatest.replace(\"<|_=00=_|>\", \"\")\n",
    "    datatest = re.sub('[^a-zA-Z0-9-_*.]', ' ', datatest)"
   ]
  },
  {
   "cell_type": "code",
   "execution_count": 20,
   "metadata": {
    "collapsed": true
   },
   "outputs": [],
   "source": [
    "import nltk\n",
    "import string\n",
    "\n",
    "# the LabMT wordlist can now be found at the path below.\n",
    "# PREPARING THE DATA SET \n",
    "labmt = open('Data_Set_S1.txt','r').read()\n",
    "labmt  =nltk.word_tokenize(labmt) # the set is tokenized, to be able to access the values as list elements\n",
    "#labmt[labmt.index('laughter')+1]\n",
    "labmt = labmt[labmt.index('laughter'):] # A little hard coding to remove problematic text from labmt set\n",
    "# EXTRACT ONLY THE WORDS FROM THE DATA SET\n",
    "words_in_labmt = re.findall('[\\D]+',' '.join(labmt).translate(None, string.punctuation)) # find all words that are not digits                                                                                          #and remove punctuation\n",
    "words_in_labmt = re.findall('[\\S]+',' '.join(words_in_labmt)) # exclude whitespaces"
   ]
  },
  {
   "cell_type": "code",
   "execution_count": 21,
   "metadata": {
    "collapsed": true
   },
   "outputs": [],
   "source": [
    "#REMOVE ANY WORDS THAT HAVE BEEN GENERATED ABOVE, THAT ARE NOT IN LABMT\n",
    "remove = set() # set of words to exclude from 'words_in_labmt'\n",
    "labmt_valence = {} # dictionary to contain words from 'words_in_labmt' as keys and their corresponding valence as values.\n",
    "for word in words_in_labmt: \n",
    "    if word not in labmt: \n",
    "        remove.add(word)  # add word to remove to 'remove' set\n",
    "    else:\n",
    "        valence = float(labmt[labmt.index(word)+2])  # get valence score from labmt\n",
    "        if valence <= 10.0:          # check that valence score is within the expected interval. \n",
    "            labmt_valence[word] = valence               \n",
    "        else: remove.add(word)   \n",
    "# exclude the words in 'remove'-set from 'words_in_labmt':\n",
    "words_in_labmt = set(words_in_labmt).difference(set(remove)) "
   ]
  },
  {
   "cell_type": "code",
   "execution_count": 22,
   "metadata": {
    "collapsed": true
   },
   "outputs": [],
   "source": [
    "from __future__ import division\n",
    "def sentiment(tokenList):\n",
    "    sentimentScore = 0.0\n",
    "    for w in tokenList:\n",
    "        if w in words_in_labmt:\n",
    "            word = w.lower()\n",
    "            sentimentScore = sentimentScore + float(labmt_valence.get(word))\n",
    "    if sentimentScore == 0.0:\n",
    "        print \"No Sentiment Words\"\n",
    "        return sentimentScore\n",
    "    else:\n",
    "        return sentimentScore/len(tokenList)"
   ]
  },
  {
   "cell_type": "code",
   "execution_count": 23,
   "metadata": {},
   "outputs": [],
   "source": [
    "movieSentiment = {}\n",
    "for f in os.listdir(\"DoneMovies2/\"):\n",
    "    with codecs.open(\"DoneMoviesReviews/\" + f[:-4] + \".txt\", \"r\", \"utf-8\") as myfile:\n",
    "        data=myfile.read().replace('\\n', '')\n",
    "        data=data2.replace(\"<|_=00=_|>\", \"\")\n",
    "        data = re.sub('[^a-zA-Z0-9-_*.]', ' ', data)\n",
    "        movieSentiment[\"\"+f[:-4]]=sentiment(data)"
   ]
  },
  {
   "cell_type": "code",
   "execution_count": 7,
   "metadata": {},
   "outputs": [
    {
     "name": "stdout",
     "output_type": "stream",
     "text": [
      "[3.6179115584017802, 3.6542073793202716, 3.680612808408223, 3.687155570424743, 3.688344827586197, 3.691254752851643, 3.69287356321839, 3.7023720552396417, 3.702385396276194, 3.708941592920214]\n",
      "[4.054541108986618, 4.015226411075605, 4.011636243821866, 4.0020534790958555, 3.993211626574829, 3.987272583075448, 3.98676448073465, 3.983348328481988, 3.982735312341372, 3.9813453318334786]\n"
     ]
    }
   ],
   "source": [
    "print sorted(movieSentiment.values())[:10]\n",
    "print sorted(movieSentiment.values(), reverse = True)[:10]"
   ]
  },
  {
   "cell_type": "markdown",
   "metadata": {
    "collapsed": true
   },
   "source": [
    "<h3>SCORE</h3>"
   ]
  },
  {
   "cell_type": "code",
   "execution_count": 3,
   "metadata": {
    "collapsed": true
   },
   "outputs": [],
   "source": [
    "movieScore = {}\n",
    "for f in os.listdir(\"DoneMovies2/\"):\n",
    "    jsondata = io.open(\"DoneMovies2/\" + f, 'r', encoding='utf-8')\n",
    "    sidensJson = json.load(jsondata)\n",
    "    movieScore[\"\"+f[:-4]]=sidensJson[\"vote_average\"]\n",
    "    jsondata.close()"
   ]
  },
  {
   "cell_type": "code",
   "execution_count": 16,
   "metadata": {},
   "outputs": [
    {
     "name": "stdout",
     "output_type": "stream",
     "text": [
      "[1.9, 2.0, 2.3, 2.6, 2.8, 3.0, 3.0, 3.0, 3.0, 3.0]\n",
      "[10.0, 9.0, 8.7, 8.6, 8.5, 8.5, 8.5, 8.4, 8.3, 8.3]\n"
     ]
    }
   ],
   "source": [
    "print sorted(movieScore.values())[:10]\n",
    "print sorted(movieScore.values(), reverse = True)[:10]"
   ]
  },
  {
   "cell_type": "markdown",
   "metadata": {},
   "source": [
    "<h3>Budget</h3>"
   ]
  },
  {
   "cell_type": "code",
   "execution_count": 29,
   "metadata": {
    "collapsed": true
   },
   "outputs": [],
   "source": [
    "movieBudget = {}\n",
    "for f in os.listdir(\"DoneMovies2/\"):\n",
    "    jsondata = io.open(\"DoneMovies2/\" + f, 'r', encoding='utf-8')\n",
    "    sidensJson = json.load(jsondata)\n",
    "    movieBudget[\"\"+f[:-4]]=sidensJson[\"budget\"]\n",
    "    jsondata.close()"
   ]
  },
  {
   "cell_type": "code",
   "execution_count": 40,
   "metadata": {},
   "outputs": [
    {
     "name": "stdout",
     "output_type": "stream",
     "text": [
      "[10000, 11178, 11180, 15000, 17000, 20000, 22361, 22361, 22361, 24554]\n",
      "[380000000, 300000000, 280000000, 270000000, 260000000, 260000000, 258000000, 255000000, 250000000, 250000000]\n"
     ]
    }
   ],
   "source": [
    "print sorted(movieBudget.values())[:10]\n",
    "print sorted(movieBudget.values(), reverse = True)[:10]"
   ]
  },
  {
   "cell_type": "markdown",
   "metadata": {},
   "source": [
    "<h3>REVENUE</h3>"
   ]
  },
  {
   "cell_type": "code",
   "execution_count": 28,
   "metadata": {
    "collapsed": true
   },
   "outputs": [],
   "source": [
    "movieRevenue = {}\n",
    "for f in os.listdir(\"DoneMovies2/\"):\n",
    "    jsondata = io.open(\"DoneMovies2/\" + f, 'r', encoding='utf-8')\n",
    "    sidensJson = json.load(jsondata)\n",
    "    movieRevenue[\"\"+f[:-4]]=sidensJson[\"revenue\"]\n",
    "    jsondata.close()"
   ]
  },
  {
   "cell_type": "code",
   "execution_count": 46,
   "metadata": {},
   "outputs": [
    {
     "name": "stdout",
     "output_type": "stream",
     "text": [
      "[10000, 10018, 10289, 10300, 10474, 11276, 11455, 12000, 12762, 13308]\n",
      "[2787965087L, 2068223624, 1845034188, 1519557910, 1513528810, 1506249360, 1405403694, 1342000000, 1274219009, 1262886337]\n"
     ]
    }
   ],
   "source": [
    "print sorted(movieRevenue.values())[:10]\n",
    "print sorted(movieRevenue.values(), reverse = True)[:10]"
   ]
  },
  {
   "cell_type": "markdown",
   "metadata": {},
   "source": [
    "<h3>Gross Income<h3>"
   ]
  },
  {
   "cell_type": "code",
   "execution_count": 26,
   "metadata": {
    "collapsed": true
   },
   "outputs": [],
   "source": [
    "movieIncome = {}\n",
    "for f in os.listdir(\"DoneMovies2/\"):\n",
    "    jsondata = io.open(\"DoneMovies2/\" + f, 'r', encoding='utf-8')\n",
    "    sidensJson = json.load(jsondata)\n",
    "    movieIncome[\"\"+f[:-4]]=(sidensJson[\"revenue\"] - sidensJson[\"budget\"])\n",
    "    jsondata.close()"
   ]
  },
  {
   "cell_type": "code",
   "execution_count": 39,
   "metadata": {},
   "outputs": [
    {
     "name": "stdout",
     "output_type": "stream",
     "text": [
      "[-165710090, -119180039, -111007242, -98301101, -92896027, -87982678, -85321445, -84540684, -80445998, -79627709]\n",
      "[2550965087L, 1823223624, 1645034188, 1363528810, 1316249360, 1299557910, 1217000000, 1125403694, 1124219009, 1102886337]\n"
     ]
    }
   ],
   "source": [
    "print sorted(movieIncome.values())[:10]\n",
    "print sorted(movieIncome.values(), reverse = True)[:10]"
   ]
  },
  {
   "cell_type": "markdown",
   "metadata": {},
   "source": [
    "<h3>Gross Income Ratio<h3>"
   ]
  },
  {
   "cell_type": "code",
   "execution_count": 27,
   "metadata": {
    "collapsed": true
   },
   "outputs": [],
   "source": [
    "movieIncomeRatio = {}\n",
    "for f in os.listdir(\"DoneMovies2/\"):\n",
    "    jsondata = io.open(\"DoneMovies2/\" + f, 'r', encoding='utf-8')\n",
    "    sidensJson = json.load(jsondata)\n",
    "    movieIncomeRatio[\"\"+f[:-4]]=(sidensJson[\"revenue\"] / sidensJson[\"budget\"])\n",
    "    jsondata.close()"
   ]
  },
  {
   "cell_type": "code",
   "execution_count": 38,
   "metadata": {},
   "outputs": [
    {
     "name": "stdout",
     "output_type": "stream",
     "text": [
      "[0.00051445, 0.00087395, 0.0011339384615384614, 0.0012, 0.0012882424242424242, 0.0013586666666666667, 0.0014, 0.0015333333333333334, 0.0017472, 0.00205725]\n",
      "[12890.386666666667, 4133.333333333333, 700.0, 439.6165846153846, 426.6441, 420.52272307692306, 262.8199991055856, 250.0, 215.3846153846154, 155.84255]\n"
     ]
    }
   ],
   "source": [
    "print sorted(movieIncomeRatio.values())[:10]\n",
    "print sorted(movieIncomeRatio.values(), reverse = True)[:10]"
   ]
  },
  {
   "cell_type": "markdown",
   "metadata": {
    "collapsed": true
   },
   "source": [
    "<h3>SCATTER PLOTS</h3>"
   ]
  },
  {
   "cell_type": "code",
   "execution_count": 17,
   "metadata": {},
   "outputs": [],
   "source": [
    "%matplotlib inline\n",
    "import matplotlib.pyplot as plt\n",
    "params = {'legend.fontsize': 'x-large',\n",
    "          'figure.figsize': (15, 5),\n",
    "         'axes.labelsize': 'x-large',\n",
    "         'axes.titlesize':'x-large',\n",
    "         'xtick.labelsize':'x-large',\n",
    "         'ytick.labelsize':'x-large'}\n",
    "plt.rcParams.update(params)"
   ]
  },
  {
   "cell_type": "code",
   "execution_count": 36,
   "metadata": {},
   "outputs": [
    {
     "data": {
      "image/png": "[encoded data removed]",
      "text/plain": [
       "<matplotlib.figure.Figure at 0x1155b080>"
      ]
     },
     "metadata": {},
     "output_type": "display_data"
    }
   ],
   "source": [
    "plt.scatter(movieSentiment.values(), movieScore.values())\n",
    "plt.xlabel(\"Review Sentiment\")\n",
    "plt.ylabel(\"Movie Score\")\n",
    "plt.show()"
   ]
  },
  {
   "cell_type": "code",
   "execution_count": 18,
   "metadata": {},
   "outputs": [
    {
     "data": {
      "image/png": "[encoded data removed]",
      "text/plain": [
       "<matplotlib.figure.Figure at 0xdcd3c50>"
      ]
     },
     "metadata": {},
     "output_type": "display_data"
    }
   ],
   "source": [
    "plt.scatter(movieIncomeRatio.values(), movieScore.values())\n",
    "plt.xlabel(\"Review Sentiment\")\n",
    "plt.ylabel(\"Movie Score\")\n",
    "plt.xlim([0,75])\n",
    "plt.show()"
   ]
  },
  {
   "cell_type": "code",
   "execution_count": 42,
   "metadata": {},
   "outputs": [
    {
     "data": {
      "image/png": "[encoded data removed]",
      "text/plain": [
       "<matplotlib.figure.Figure at 0x11c19a58>"
      ]
     },
     "metadata": {},
     "output_type": "display_data"
    }
   ],
   "source": [
    "plt.scatter(movieRevenue.values(), movieBudget.values())\n",
    "plt.xlabel(\"Movie Revenue\")\n",
    "plt.ylabel(\"Movie Budget\")\n",
    "plt.show()"
   ]
  },
  {
   "cell_type": "markdown",
   "metadata": {
    "collapsed": true
   },
   "source": [
    "<h3>Attribute Correlation</h3>"
   ]
  },
  {
   "cell_type": "code",
   "execution_count": 34,
   "metadata": {
    "collapsed": true
   },
   "outputs": [],
   "source": [
    "import pandas as pd"
   ]
  },
  {
   "cell_type": "code",
   "execution_count": 35,
   "metadata": {
    "collapsed": true
   },
   "outputs": [],
   "source": [
    "datamatrix = pd.DataFrame({'User Score': movieScore.values(),'Sentiment': movieSentiment.values(),'Budget': movieBudget.values(), 'Income': movieIncome.values(), 'Income Ratio': movieIncomeRatio.values(), 'Revenue': movieRevenue.values()})"
   ]
  },
  {
   "cell_type": "code",
   "execution_count": 37,
   "metadata": {},
   "outputs": [
    {
     "data": {
      "text/html": [
       "<div>\n",
       "<style>\n",
       "    .dataframe thead tr:only-child th {\n",
       "        text-align: right;\n",
       "    }\n",
       "\n",
       "    .dataframe thead th {\n",
       "        text-align: left;\n",
       "    }\n",
       "\n",
       "    .dataframe tbody tr th {\n",
       "        vertical-align: top;\n",
       "    }\n",
       "</style>\n",
       "<table border=\"1\" class=\"dataframe\">\n",
       "  <thead>\n",
       "    <tr style=\"text-align: right;\">\n",
       "      <th></th>\n",
       "      <th>Budget</th>\n",
       "      <th>Income</th>\n",
       "      <th>Income Ratio</th>\n",
       "      <th>Revenue</th>\n",
       "      <th>Sentiment</th>\n",
       "      <th>User Score</th>\n",
       "    </tr>\n",
       "  </thead>\n",
       "  <tbody>\n",
       "    <tr>\n",
       "      <th>Budget</th>\n",
       "      <td>1.000000</td>\n",
       "      <td>0.582307</td>\n",
       "      <td>-0.022553</td>\n",
       "      <td>0.727765</td>\n",
       "      <td>-0.069845</td>\n",
       "      <td>0.069169</td>\n",
       "    </tr>\n",
       "    <tr>\n",
       "      <th>Income</th>\n",
       "      <td>0.582307</td>\n",
       "      <td>1.000000</td>\n",
       "      <td>0.025510</td>\n",
       "      <td>0.981338</td>\n",
       "      <td>-0.063111</td>\n",
       "      <td>0.259909</td>\n",
       "    </tr>\n",
       "    <tr>\n",
       "      <th>Income Ratio</th>\n",
       "      <td>-0.022553</td>\n",
       "      <td>0.025510</td>\n",
       "      <td>1.000000</td>\n",
       "      <td>0.016186</td>\n",
       "      <td>-0.016669</td>\n",
       "      <td>0.002273</td>\n",
       "    </tr>\n",
       "    <tr>\n",
       "      <th>Revenue</th>\n",
       "      <td>0.727765</td>\n",
       "      <td>0.981338</td>\n",
       "      <td>0.016186</td>\n",
       "      <td>1.000000</td>\n",
       "      <td>-0.069761</td>\n",
       "      <td>0.235622</td>\n",
       "    </tr>\n",
       "    <tr>\n",
       "      <th>Sentiment</th>\n",
       "      <td>-0.069845</td>\n",
       "      <td>-0.063111</td>\n",
       "      <td>-0.016669</td>\n",
       "      <td>-0.069761</td>\n",
       "      <td>1.000000</td>\n",
       "      <td>0.216589</td>\n",
       "    </tr>\n",
       "    <tr>\n",
       "      <th>User Score</th>\n",
       "      <td>0.069169</td>\n",
       "      <td>0.259909</td>\n",
       "      <td>0.002273</td>\n",
       "      <td>0.235622</td>\n",
       "      <td>0.216589</td>\n",
       "      <td>1.000000</td>\n",
       "    </tr>\n",
       "  </tbody>\n",
       "</table>\n",
       "</div>"
      ],
      "text/plain": [
       "                Budget    Income  Income Ratio   Revenue  Sentiment  \\\n",
       "Budget        1.000000  0.582307     -0.022553  0.727765  -0.069845   \n",
       "Income        0.582307  1.000000      0.025510  0.981338  -0.063111   \n",
       "Income Ratio -0.022553  0.025510      1.000000  0.016186  -0.016669   \n",
       "Revenue       0.727765  0.981338      0.016186  1.000000  -0.069761   \n",
       "Sentiment    -0.069845 -0.063111     -0.016669 -0.069761   1.000000   \n",
       "User Score    0.069169  0.259909      0.002273  0.235622   0.216589   \n",
       "\n",
       "              User Score  \n",
       "Budget          0.069169  \n",
       "Income          0.259909  \n",
       "Income Ratio    0.002273  \n",
       "Revenue         0.235622  \n",
       "Sentiment       0.216589  \n",
       "User Score      1.000000  "
      ]
     },
     "execution_count": 37,
     "metadata": {},
     "output_type": "execute_result"
    }
   ],
   "source": [
    "datamatrix.corr()"
   ]
  },
  {
   "cell_type": "code",
   "execution_count": null,
   "metadata": {
    "collapsed": true
   },
   "outputs": [],
   "source": []
  },
  {
   "cell_type": "code",
   "execution_count": null,
   "metadata": {
    "collapsed": true
   },
   "outputs": [],
   "source": []
  },
  {
   "cell_type": "code",
   "execution_count": null,
   "metadata": {
    "collapsed": true
   },
   "outputs": [],
   "source": []
  },
  {
   "cell_type": "code",
   "execution_count": null,
   "metadata": {
    "collapsed": true
   },
   "outputs": [],
   "source": []
  },
  {
   "cell_type": "code",
   "execution_count": null,
   "metadata": {
    "collapsed": true
   },
   "outputs": [],
   "source": []
  },
  {
   "cell_type": "code",
   "execution_count": null,
   "metadata": {
    "collapsed": true
   },
   "outputs": [],
   "source": []
  },
  {
   "cell_type": "code",
   "execution_count": null,
   "metadata": {
    "collapsed": true
   },
   "outputs": [],
   "source": []
  },
  {
   "cell_type": "code",
   "execution_count": null,
   "metadata": {
    "collapsed": true
   },
   "outputs": [],
   "source": []
  },
  {
   "cell_type": "code",
   "execution_count": null,
   "metadata": {
    "collapsed": true
   },
   "outputs": [],
   "source": []
  },
  {
   "cell_type": "code",
   "execution_count": null,
   "metadata": {
    "collapsed": true
   },
   "outputs": [],
   "source": []
  },
  {
   "cell_type": "code",
   "execution_count": null,
   "metadata": {
    "collapsed": true
   },
   "outputs": [],
   "source": []
  },
  {
   "cell_type": "code",
   "execution_count": null,
   "metadata": {
    "collapsed": true
   },
   "outputs": [],
   "source": []
  },
  {
   "cell_type": "code",
   "execution_count": null,
   "metadata": {
    "collapsed": true
   },
   "outputs": [],
   "source": []
  },
  {
   "cell_type": "code",
   "execution_count": null,
   "metadata": {
    "collapsed": true
   },
   "outputs": [],
   "source": []
  },
  {
   "cell_type": "code",
   "execution_count": null,
   "metadata": {
    "collapsed": true
   },
   "outputs": [],
   "source": []
  },
  {
   "cell_type": "code",
   "execution_count": null,
   "metadata": {
    "collapsed": true
   },
   "outputs": [],
   "source": []
  },
  {
   "cell_type": "code",
   "execution_count": null,
   "metadata": {
    "collapsed": true
   },
   "outputs": [],
   "source": []
  },
  {
   "cell_type": "code",
   "execution_count": null,
   "metadata": {
    "collapsed": true
   },
   "outputs": [],
   "source": []
  },
  {
   "cell_type": "code",
   "execution_count": null,
   "metadata": {
    "collapsed": true
   },
   "outputs": [],
   "source": []
  },
  {
   "cell_type": "code",
   "execution_count": null,
   "metadata": {
    "collapsed": true
   },
   "outputs": [],
   "source": []
  },
  {
   "cell_type": "code",
   "execution_count": null,
   "metadata": {
    "collapsed": true
   },
   "outputs": [],
   "source": []
  },
  {
   "cell_type": "code",
   "execution_count": null,
   "metadata": {
    "collapsed": true
   },
   "outputs": [],
   "source": []
  },
  {
   "cell_type": "code",
   "execution_count": null,
   "metadata": {
    "collapsed": true
   },
   "outputs": [],
   "source": []
  },
  {
   "cell_type": "code",
   "execution_count": null,
   "metadata": {
    "collapsed": true
   },
   "outputs": [],
   "source": []
  },
  {
   "cell_type": "code",
   "execution_count": null,
   "metadata": {
    "collapsed": true
   },
   "outputs": [],
   "source": []
  },
  {
   "cell_type": "code",
   "execution_count": null,
   "metadata": {
    "collapsed": true
   },
   "outputs": [],
   "source": []
  },
  {
   "cell_type": "code",
   "execution_count": null,
   "metadata": {
    "collapsed": true
   },
   "outputs": [],
   "source": []
  },
  {
   "cell_type": "code",
   "execution_count": null,
   "metadata": {
    "collapsed": true
   },
   "outputs": [],
   "source": []
  },
  {
   "cell_type": "code",
   "execution_count": null,
   "metadata": {
    "collapsed": true
   },
   "outputs": [],
   "source": []
  },
  {
   "cell_type": "code",
   "execution_count": null,
   "metadata": {
    "collapsed": true
   },
   "outputs": [],
   "source": []
  },
  {
   "cell_type": "code",
   "execution_count": null,
   "metadata": {
    "collapsed": true
   },
   "outputs": [],
   "source": []
  },
  {
   "cell_type": "code",
   "execution_count": null,
   "metadata": {
    "collapsed": true
   },
   "outputs": [],
   "source": []
  },
  {
   "cell_type": "code",
   "execution_count": null,
   "metadata": {
    "collapsed": true
   },
   "outputs": [],
   "source": []
  },
  {
   "cell_type": "code",
   "execution_count": null,
   "metadata": {
    "collapsed": true
   },
   "outputs": [],
   "source": []
  },
  {
   "cell_type": "code",
   "execution_count": null,
   "metadata": {
    "collapsed": true
   },
   "outputs": [],
   "source": []
  },
  {
   "cell_type": "code",
   "execution_count": null,
   "metadata": {
    "collapsed": true
   },
   "outputs": [],
   "source": []
  },
  {
   "cell_type": "code",
   "execution_count": null,
   "metadata": {
    "collapsed": true
   },
   "outputs": [],
   "source": []
  },
  {
   "cell_type": "code",
   "execution_count": null,
   "metadata": {
    "collapsed": true
   },
   "outputs": [],
   "source": []
  },
  {
   "cell_type": "code",
   "execution_count": null,
   "metadata": {
    "collapsed": true
   },
   "outputs": [],
   "source": []
  },
  {
   "cell_type": "code",
   "execution_count": null,
   "metadata": {
    "collapsed": true
   },
   "outputs": [],
   "source": []
  },
  {
   "cell_type": "code",
   "execution_count": null,
   "metadata": {
    "collapsed": true
   },
   "outputs": [],
   "source": []
  },
  {
   "cell_type": "code",
   "execution_count": null,
   "metadata": {
    "collapsed": true
   },
   "outputs": [],
   "source": []
  },
  {
   "cell_type": "code",
   "execution_count": null,
   "metadata": {
    "collapsed": true
   },
   "outputs": [],
   "source": []
  },
  {
   "cell_type": "code",
   "execution_count": null,
   "metadata": {
    "collapsed": true
   },
   "outputs": [],
   "source": []
  },
  {
   "cell_type": "code",
   "execution_count": null,
   "metadata": {
    "collapsed": true
   },
   "outputs": [],
   "source": []
  },
  {
   "cell_type": "code",
   "execution_count": null,
   "metadata": {
    "collapsed": true
   },
   "outputs": [],
   "source": []
  }
 ],
 "metadata": {
  "kernelspec": {
   "display_name": "Python 2",
   "language": "python",
   "name": "python2"
  },
  "language_info": {
   "codemirror_mode": {
    "name": "ipython",
    "version": 2
   },
   "file_extension": ".py",
   "mimetype": "text/x-python",
   "name": "python",
   "nbconvert_exporter": "python",
   "pygments_lexer": "ipython2",
   "version": "2.7.13"
  }
 },
 "nbformat": 4,
 "nbformat_minor": 2
}
