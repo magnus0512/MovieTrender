{
 "cells": [
  {
   "cell_type": "code",
   "execution_count": 1,
   "metadata": {
    "collapsed": true
   },
   "outputs": [],
   "source": [
    "import urllib2\n",
    "import json\n",
    "import re\n",
    "import io\n",
    "import copy\n",
    "import nltk, re, pprint\n",
    "import os\n",
    "import time\n",
    "import calendar\n",
    "import datetime\n",
    "from threading import Thread\n",
    "from time import sleep\n",
    "from __future__ import division\n",
    "import codecs"
   ]
  },
  {
   "cell_type": "markdown",
   "metadata": {},
   "source": [
    "<h1> Select the right movies from all movies"
   ]
  },
  {
   "cell_type": "code",
   "execution_count": null,
   "metadata": {
    "collapsed": true
   },
   "outputs": [],
   "source": [
    "i = 0\n",
    "for filename in os.listdir('Testing'):\n",
    "    test = io.open(\"Testing/\" + filename, 'r', encoding='utf-8')\n",
    "    sidensJson = json.load(test)\n",
    "    #print sidensJson[\"release_date\"]\n",
    "    try:\n",
    "        if (sidensJson[\"budget\"] > 10000 and sidensJson[\"revenue\"] > 10000 and int(sidensJson[\"release_date\"][:4]) > 1976 and sidensJson[\"vote_count\"] > 0 and sidensJson[\"runtime\"] > 0 and sidensJson[\"original_language\"] == \"en\"):\n",
    "            i = i + 1\n",
    "            #with open('DoneMovies/' + filename, 'w') as outfile:\n",
    "                #json.dump(sidensJson, outfile)\n",
    "    except:\n",
    "        print filename\n",
    "print i"
   ]
  },
  {
   "cell_type": "markdown",
   "metadata": {},
   "source": [
    "<h1> Get Data from MovieDB"
   ]
  },
  {
   "cell_type": "code",
   "execution_count": null,
   "metadata": {
    "collapsed": true
   },
   "outputs": [],
   "source": [
    "f = io.open('data.tsv', 'r', encoding='utf-8')\n",
    "movies = re.findall(r'\\w\\w\\w\\w\\w\\w\\w\\w\\w\\tmovie.+\\n', f.read())\n",
    "f.close()\n",
    "f = io.open('data.tsv', 'r', encoding='utf-8')\n",
    "documentarys = re.findall(r'\\w\\w\\w\\w\\w\\w\\w\\w\\w\\tmovie.+\\tDocumentary\\n', f.read())\n",
    "f.close()\n",
    "f = io.open('data.tsv', 'r', encoding='utf-8')\n",
    "empty = re.findall(r'\\w\\w\\w\\w\\w\\w\\w\\w\\w\\tmovie.+\\t\\\\N\\n', f.read())\n",
    "f.close()\n",
    "movieSet = set(movies)\n",
    "docuSet = set(documentarys)\n",
    "emptyMovieSet = set(empty)\n",
    "KunMovies = (movieSet - docuSet) - emptyMovieSet"
   ]
  },
  {
   "cell_type": "code",
   "execution_count": null,
   "metadata": {
    "collapsed": true
   },
   "outputs": [],
   "source": [
    "f = io.open('Movies.txt', 'w', encoding='utf-8')\n",
    "for i in KunMovies:\n",
    "    f.write(i)\n",
    "f.close()\n",
    "f = io.open('Movies.txt', 'r', encoding='utf-8')\n",
    "IMDB = re.findall(r'(\\w\\w\\w\\w\\w\\w\\w\\w\\w).+\\n', f.read())"
   ]
  },
  {
   "cell_type": "code",
   "execution_count": null,
   "metadata": {
    "collapsed": true
   },
   "outputs": [],
   "source": [
    "def threaded_function(arg):\n",
    "    f = io.open('Done2.txt', 'a', encoding='utf-8')    \n",
    "    f.writelines(arg + \"\\n\")\n",
    "    f.close()\n",
    "    try:\n",
    "        query = \"https://api.themoviedb.org/3/movie/\" + arg + \"?api_key=165c6cb5ab10a81562b9e48c4dff4665&language=en-US\"\n",
    "        wikiresponse = urllib2.urlopen(query)\n",
    "        sidensJson = json.load(wikiresponse)\n",
    "        revenue = sidensJson[\"revenue\"]\n",
    "        if (revenue > 0):\n",
    "            print \"NUMMERET ER \" , IMDB.index(arg)\n",
    "            with open('Testing/' + arg + '.txt', 'w') as outfile:\n",
    "                json.dump(sidensJson, outfile)\n",
    "            f = io.open('Success.txt', 'a', encoding='utf-8')    \n",
    "            f.writelines(arg + \"\\n\")\n",
    "            f.close()\n",
    "    except:\n",
    "        pass"
   ]
  },
  {
   "cell_type": "code",
   "execution_count": null,
   "metadata": {
    "collapsed": true
   },
   "outputs": [],
   "source": [
    "thread = Thread(target = threaded_function, args = (IMDB[0]))\n",
    "Threads = []\n",
    "startTime = calendar.timegm(time.gmtime())\n",
    "doneList = []\n",
    "f = io.open('Done.txt', 'r')\n",
    "doneList = f.readlines()\n",
    "doneList = [x.strip() for x in doneList] \n",
    "f.close()\n",
    "q = 0\n",
    "for i in range(0,len(IMDB)):\n",
    "    try:\n",
    "        doneList.index(IMDB[i])\n",
    "    except:\n",
    "        if (q % 40 == 0 and q != 0):\n",
    "            for j in range(q-40, q):\n",
    "                Threads[j].join()\n",
    "        thread = Thread(target = threaded_function, args = (IMDB[i], ))\n",
    "        print i\n",
    "        Threads.append(thread)\n",
    "        Threads[q].start()\n",
    "\n",
    "        if (q % 40 == 0 and q != 0):\n",
    "            for j in Threads:\n",
    "                j.join()\n",
    "            slutTime = calendar.timegm(time.gmtime())\n",
    "            diffTime = slutTime - startTime\n",
    "            #print \"Difftime = \" , diffTime\n",
    "            if (diffTime <= 10):\n",
    "                strafTid = 12 - diffTime\n",
    "                #print \"Pause = \", strafTid\n",
    "                time.sleep(strafTid)\n",
    "            startTime = calendar.timegm(time.gmtime())\n",
    "        q = q + 1"
   ]
  },
  {
   "cell_type": "markdown",
   "metadata": {},
   "source": [
    "<h1> Reviews <h1>\n",
    "<h3> We try to get the 10 best rated reviews by users on IMDB. If there are less than 10 for the individual movie, we take what we can get."
   ]
  },
  {
   "cell_type": "code",
   "execution_count": null,
   "metadata": {
    "collapsed": true
   },
   "outputs": [],
   "source": [
    "import urllib2\n",
    "import codecs\n",
    "from HTMLParser import HTMLParser\n",
    "import os\n",
    "totalNumberOfFiles = len(os.listdir(\"DoneMovies/\"))\n",
    "countt = 0\n",
    "for f in os.listdir(\"DoneMovies/\"):\n",
    "    if f[-4:] == \".txt\" and (not os.path.isfile(\"DoneMoviesReviews/\" + f) or os.path.getsize(\"DoneMoviesReviews/\" + f) == 0):\n",
    "        idd = f[:-4]\n",
    "\n",
    "        response = urllib2.urlopen('http://www.imdb.com/title/' + idd + '/reviews')\n",
    "        html2 = response.read()\n",
    "\n",
    "        div = html2.split(\"tn15content\")[1]\n",
    "        parts = div.split(\"<b>Author:</b>\")\n",
    "        parts.pop(0)\n",
    "        h = HTMLParser()\n",
    "        res = []\n",
    "        for part in parts:\n",
    "            try:\n",
    "                dataa = h.unescape(part.split(\"</div>\\n<p>\")[1].split(\"</p>\")[0].replace(\"<br>\", \"\\n\"))\n",
    "                f = codecs.open(\"temp.txxt\", \"w\", \"utf-8\")\n",
    "                f.write(\"<|_=00=_|>\".join([dataa]))\n",
    "                f.close()\n",
    "                res.append(dataa)\n",
    "            except Exception as e:\n",
    "                pass            \n",
    "        try:\n",
    "            f = codecs.open(\"DoneMoviesReviews/\" + idd + \".txt\", \"w\", \"utf-8\")\n",
    "            f.write(\"<|_=00=_|>\".join(res))\n",
    "            f.close()\n",
    "        except Exception as e:\n",
    "            pass\n",
    "    countt += 1\n",
    "    print countt / float(totalNumberOfFiles)"
   ]
  },
  {
   "cell_type": "code",
   "execution_count": null,
   "metadata": {
    "collapsed": true
   },
   "outputs": [],
   "source": [
    "y = 0\n",
    "for f in os.listdir(\"DoneMovies/\"):\n",
    "    if f[-4:] == \".txt\" and (not os.path.isfile(\"DoneMoviesReviews/\" + f)):                          \n",
    "        try:\n",
    "            os.remove(\"DoneMovies/\" + f)\n",
    "            y = y+1\n",
    "        except OSError:\n",
    "            pass\n",
    "print y   "
   ]
  },
  {
   "cell_type": "markdown",
   "metadata": {},
   "source": [
    "<h1> Get Credits"
   ]
  },
  {
   "cell_type": "code",
   "execution_count": null,
   "metadata": {
    "collapsed": true
   },
   "outputs": [],
   "source": [
    "def threaded_functionForCredits(arg):\n",
    "    try:\n",
    "        query = \"https://api.themoviedb.org/3/movie/\" + str(arg) + \"/credits?api_key=165c6cb5ab10a81562b9e48c4dff4665&language=en-US\"\n",
    "        wikiresponse = urllib2.urlopen(query)\n",
    "        sidensJson = json.load(wikiresponse)\n",
    "        with open('Credits/' + str(arg) + '.txt', 'w') as outfile:\n",
    "            json.dump(sidensJson, outfile)\n",
    "    except:\n",
    "        print arg, \"Fejl\"\n",
    "        pass"
   ]
  },
  {
   "cell_type": "code",
   "execution_count": null,
   "metadata": {
    "collapsed": true
   },
   "outputs": [],
   "source": [
    "q = 0\n",
    "Threads = []\n",
    "startTime = calendar.timegm(time.gmtime())\n",
    "for filename in os.listdir('DoneMovies'):\n",
    "    test = io.open(\"DoneMovies/\" + filename, 'r', encoding='utf-8')\n",
    "    sidensJson = json.load(test)\n",
    "    if (q % 40 == 0 and q != 0):\n",
    "        for j in range(q-40, q):\n",
    "            Threads[j].join()\n",
    "    thread = Thread(target = threaded_functionForCredits, args = (sidensJson[\"id\"], ))\n",
    "    Threads.append(thread)\n",
    "    Threads[q].start()\n",
    "    if (q % 40 == 0 and q != 0):\n",
    "        for j in Threads:\n",
    "            j.join()\n",
    "        slutTime = calendar.timegm(time.gmtime())\n",
    "        diffTime = slutTime - startTime\n",
    "        #print \"Difftime = \" , diffTime\n",
    "        if (diffTime <= 10):\n",
    "            strafTid = 12 - diffTime\n",
    "            #print \"Pause = \", strafTid\n",
    "            time.sleep(strafTid)\n",
    "        startTime = calendar.timegm(time.gmtime())\n",
    "    print q\n",
    "    q = q + 1"
   ]
  },
  {
   "cell_type": "markdown",
   "metadata": {},
   "source": [
    "<h1> Get all Actors from Credits"
   ]
  },
  {
   "cell_type": "code",
   "execution_count": null,
   "metadata": {
    "collapsed": true
   },
   "outputs": [],
   "source": [
    "for filename in os.listdir('Credits'):\n",
    "    test = io.open(\"Credits/\" + filename, 'r', encoding='utf-8')\n",
    "    sidensJson = json.load(test)\n",
    "    test.close()\n",
    "    castList = []\n",
    "    for i in sidensJson[\"cast\"]:\n",
    "        if(i[\"character\"].rfind(\"uncredited\") == -1):\n",
    "            try:\n",
    "                if str(i[\"id\"]) not in castList:\n",
    "                    f = io.open(\"Actors/\" + str(i[\"id\"]) + \".txt\", 'a', encoding='utf-8')\n",
    "                    f.write(unicode(filename[:-4]) + \"\\n\")\n",
    "                    f.close()\n",
    "                    castList.append(str(i[\"id\"]))\n",
    "                else:\n",
    "                    pass\n",
    "            except:\n",
    "                f = io.open(\"Actors/\" + str(i[\"id\"]) + \".txt\", 'w', encoding='utf-8')\n",
    "                f.write(unicode(filename[:-4]) + \"\\n\")\n",
    "                f.close()\n",
    "                castList.append(str(i[\"id\"]))\n",
    "    #break"
   ]
  },
  {
   "cell_type": "markdown",
   "metadata": {},
   "source": [
    "<h1> Get all directors from Credits"
   ]
  },
  {
   "cell_type": "code",
   "execution_count": null,
   "metadata": {
    "collapsed": true
   },
   "outputs": [],
   "source": [
    "for filename in os.listdir('Credits'):\n",
    "    test = io.open(\"Credits/\" + filename, 'r', encoding='utf-8')\n",
    "    sidensJson = json.load(test)\n",
    "    test.close()\n",
    "    castList = []\n",
    "    for i in sidensJson[\"crew\"]:\n",
    "        if i[\"job\"] == \"Director\":\n",
    "            try:\n",
    "                if str(i[\"id\"]) not in castList:\n",
    "                    f = io.open(\"Directors/\" + str(i[\"id\"]) + \".txt\", 'a', encoding='utf-8')\n",
    "                    f.write(unicode(filename[:-4]) + \"\\n\")\n",
    "                    f.close()\n",
    "                    castList.append(str(i[\"id\"]))\n",
    "                else:\n",
    "                    pass\n",
    "            except:\n",
    "                f = io.open(\"Directors/\" + str(i[\"id\"]) + \".txt\", 'w', encoding='utf-8')\n",
    "                f.write(unicode(filename[:-4]) + \"\\n\")\n",
    "                f.close()\n",
    "                castList.append(str(i[\"id\"]))\n",
    "    #break"
   ]
  },
  {
   "cell_type": "markdown",
   "metadata": {},
   "source": [
    "<h1> Actors in more than 1 movie"
   ]
  },
  {
   "cell_type": "code",
   "execution_count": null,
   "metadata": {
    "collapsed": true
   },
   "outputs": [],
   "source": [
    "i = 0\n",
    "for filename in os.listdir('Actors'):\n",
    "    test = io.open(\"Actors/\" + filename, 'r', encoding='utf-8')\n",
    "    indhold = test.readlines()\n",
    "    if(len(indhold) > 1):\n",
    "        i = i + 1\n",
    "        f = io.open(\"ActorsMoreThan1/\" + filename, 'w', encoding='utf-8')\n",
    "        f.writelines(indhold)\n",
    "        f.close()\n",
    "    test.close()\n",
    "print i"
   ]
  },
  {
   "cell_type": "markdown",
   "metadata": {},
   "source": [
    "<h1> Actors in more than X movies"
   ]
  },
  {
   "cell_type": "code",
   "execution_count": null,
   "metadata": {
    "collapsed": true
   },
   "outputs": [],
   "source": [
    "i = 0\n",
    "for filename in os.listdir('Actors'):\n",
    "    test = io.open(\"Actors/\" + filename, 'r', encoding='utf-8')\n",
    "    indhold = test.readlines()\n",
    "    if(len(indhold) >= 10):\n",
    "        i = i + 1\n",
    "        f = io.open(\"ActorsMoreThanX/\" + filename, 'w', encoding='utf-8')\n",
    "        f.writelines(indhold)\n",
    "        f.close()\n",
    "    test.close()\n",
    "print i"
   ]
  },
  {
   "cell_type": "markdown",
   "metadata": {},
   "source": [
    "<h1> Get Json for all Actors/Directors"
   ]
  },
  {
   "cell_type": "code",
   "execution_count": null,
   "metadata": {
    "collapsed": true
   },
   "outputs": [],
   "source": [
    "def threaded_functionForPersonJson(arg):\n",
    "    try:\n",
    "        query = \"https://api.themoviedb.org/3/person/\" + str(arg) + \"?api_key=165c6cb5ab10a81562b9e48c4dff4665&language=en-US\"\n",
    "        wikiresponse = urllib2.urlopen(query)\n",
    "        sidensJson = json.load(wikiresponse)\n",
    "        with open('PersonJson/' + str(arg) + '.txt', 'w') as outfile:\n",
    "            json.dump(sidensJson, outfile)\n",
    "    except:\n",
    "        print arg, \"Fejl\"\n",
    "        pass"
   ]
  },
  {
   "cell_type": "code",
   "execution_count": null,
   "metadata": {
    "collapsed": true
   },
   "outputs": [],
   "source": [
    "q = 0\n",
    "Threads = []\n",
    "startTime = calendar.timegm(time.gmtime())\n",
    "for filename in os.listdir('Directors'):\n",
    "    if (q % 40 == 0 and q != 0):\n",
    "        for j in range(q-40, q):\n",
    "            Threads[j].join()\n",
    "    thread = Thread(target = threaded_functionForPersonJson, args = (filename[:-4], ))\n",
    "    Threads.append(thread)\n",
    "    Threads[q].start()\n",
    "    if (q % 40 == 0 and q != 0):\n",
    "        for j in Threads:\n",
    "            j.join()\n",
    "        slutTime = calendar.timegm(time.gmtime())\n",
    "        diffTime = slutTime - startTime\n",
    "        #print \"Difftime = \" , diffTime\n",
    "        if (diffTime <= 10):\n",
    "            strafTid = 12 - diffTime\n",
    "            #print \"Pause = \", strafTid\n",
    "            time.sleep(strafTid)\n",
    "        startTime = calendar.timegm(time.gmtime())\n",
    "    print q\n",
    "    q = q + 1\n",
    "for filename in os.listdir('ActorsInMoreThanX'):\n",
    "    if (q % 40 == 0 and q != 0):\n",
    "        for j in range(q-40, q):\n",
    "            Threads[j].join()\n",
    "    thread = Thread(target = threaded_functionForPersonJson, args = (filename[:-4], ))\n",
    "    Threads.append(thread)\n",
    "    Threads[q].start()\n",
    "    if (q % 40 == 0 and q != 0):\n",
    "        for j in Threads:\n",
    "            j.join()\n",
    "        slutTime = calendar.timegm(time.gmtime())\n",
    "        diffTime = slutTime - startTime\n",
    "        #print \"Difftime = \" , diffTime\n",
    "        if (diffTime <= 10):\n",
    "            strafTid = 12 - diffTime\n",
    "            #print \"Pause = \", strafTid\n",
    "            time.sleep(strafTid)\n",
    "        startTime = calendar.timegm(time.gmtime())\n",
    "    print q\n",
    "    q = q + 1"
   ]
  },
  {
   "cell_type": "code",
   "execution_count": null,
   "metadata": {
    "collapsed": true
   },
   "outputs": [],
   "source": []
  },
  {
   "cell_type": "markdown",
   "metadata": {},
   "source": [
    "<h1> Actor pairs"
   ]
  },
  {
   "cell_type": "code",
   "execution_count": null,
   "metadata": {
    "collapsed": true
   },
   "outputs": [],
   "source": [
    "count = 0\n",
    "nr1 = 0\n",
    "nr2 = 0\n",
    "countnr = 0\n",
    "for filename in os.listdir('ActorsMoreThanX'):\n",
    "    nr2 = 0\n",
    "    #print filename[:-4]\n",
    "    test = io.open(\"ActorsMoreThanX/\" + filename, 'r', encoding='utf-8')\n",
    "    doneList = test.readlines()\n",
    "    doneList = [x.strip() for x in doneList]\n",
    "    test.close()\n",
    "    for filename2 in os.listdir('ActorsMoreThanX'):\n",
    "        if (nr2 > nr1):\n",
    "            if str(filename[:-4]) != str(filename2[:-4]):\n",
    "                #print filename, filename2\n",
    "                matches = []\n",
    "                test2 = io.open(\"ActorsMoreThanX/\" + filename2, 'r', encoding='utf-8')\n",
    "                doneList2 = test2.readlines()\n",
    "                doneList2 = [x.strip() for x in doneList2]\n",
    "                test2.close()\n",
    "                for i in doneList:\n",
    "                    for j in doneList2:\n",
    "                        if i == j:\n",
    "                            #print i == j\n",
    "                            matches.append(str(i))\n",
    "                if(len(matches) >= 3):\n",
    "                    countnr = countnr + 1\n",
    "                    f = io.open(\"ActorPairs/\" + filename[:-4] + \"-\" + filename2, 'w', encoding='utf-8')\n",
    "                    for i in matches:\n",
    "                        f.writelines(unicode(i) + \"\\n\")\n",
    "                    f.close()\n",
    "        nr2 = nr2 + 1\n",
    "        #break\n",
    "    print count\n",
    "    count = count + 1\n",
    "    nr1 = nr1 + 1\n",
    "print countnr"
   ]
  },
  {
   "cell_type": "markdown",
   "metadata": {},
   "source": [
    "<h1> Director and Actor Pair"
   ]
  },
  {
   "cell_type": "code",
   "execution_count": null,
   "metadata": {
    "collapsed": true
   },
   "outputs": [],
   "source": [
    "count = 0\n",
    "countnr = 0\n",
    "for filename in os.listdir('ActorsMoreThanX'):\n",
    "    #print filename[:-4]\n",
    "    test = io.open(\"ActorsMoreThanX/\" + filename, 'r', encoding='utf-8')\n",
    "    doneList = test.readlines()\n",
    "    doneList = [x.strip() for x in doneList]\n",
    "    test.close()\n",
    "    for filename2 in os.listdir('Directors'):\n",
    "            if str(filename[:-4]) != str(filename2[:-4]):\n",
    "                #print filename, filename2\n",
    "                matches = []\n",
    "                test2 = io.open(\"Directors/\" + filename2, 'r', encoding='utf-8')\n",
    "                doneList2 = test2.readlines()\n",
    "                doneList2 = [x.strip() for x in doneList2]\n",
    "                test2.close()\n",
    "                for i in doneList:\n",
    "                    for j in doneList2:\n",
    "                        if i == j:\n",
    "                            #print i == j\n",
    "                            matches.append(str(i))\n",
    "                if(len(matches) >= 2):\n",
    "                    countnr = countnr + 1\n",
    "                    f = io.open(\"ActorDirectorPair/\" + filename[:-4] + \"-\" + filename2, 'w', encoding='utf-8')\n",
    "                    for i in matches:\n",
    "                        f.writelines(unicode(i) + \"\\n\")\n",
    "                    f.close()\n",
    "        #break\n",
    "    print count\n",
    "    count = count + 1\n",
    "print countnr"
   ]
  },
  {
   "cell_type": "code",
   "execution_count": null,
   "metadata": {
    "collapsed": true
   },
   "outputs": [],
   "source": []
  },
  {
   "cell_type": "markdown",
   "metadata": {},
   "source": [
    "<h1> Get all genres for each movie."
   ]
  },
  {
   "cell_type": "code",
   "execution_count": null,
   "metadata": {
    "collapsed": true
   },
   "outputs": [],
   "source": [
    "movieAproved = []\n",
    "for f in os.listdir(\"DoneMovies/\"):\n",
    "    movieAproved.append(f[:-4])"
   ]
  },
  {
   "cell_type": "code",
   "execution_count": null,
   "metadata": {
    "collapsed": true
   },
   "outputs": [],
   "source": [
    "movieGenreList = []\n",
    "with open('Movies.txt','r') as f:\n",
    "    for line in f:\n",
    "        if line.split(None, 1)[0] in movieAproved:\n",
    "            moviegenre = re.search(r'(\\w\\w\\w\\w\\w\\w\\w\\w\\w)\\t.+\\t([\\w,-]+)\\n', line)\n",
    "            if moviegenre:\n",
    "                #print \"moviegenre.group() : \",  moviegenre.group(1) +\" \"+ moviegenre.group(2)\n",
    "                movieGenreList.append(moviegenre.group(1) +\" \"+ moviegenre.group(2))\n",
    "            else:\n",
    "                print (\"None Type:\"+line.split(None, 1)[0])"
   ]
  },
  {
   "cell_type": "code",
   "execution_count": null,
   "metadata": {
    "collapsed": true
   },
   "outputs": [],
   "source": [
    "for moviegenres in movieGenreList:\n",
    "    splitted = moviegenres.split()\n",
    "    movieid = splitted[0]\n",
    "    moviegen = splitted[1]\n",
    "    if (not os.path.isfile(\"MovieGenres/\" + movieid +\".txt\") or os.path.getsize(\"MovieGenres/\" + movieid +\".txt\") == 0):\n",
    "        f = codecs.open(\"MovieGenres/\" + movieid +\".txt\", \"w\", \"utf-8\")\n",
    "        f.write(moviegen)\n",
    "        f.close()"
   ]
  },
  {
   "cell_type": "code",
   "execution_count": null,
   "metadata": {
    "collapsed": true
   },
   "outputs": [],
   "source": [
    "for filename in os.listdir('MovieGenres'):\n",
    "    with open(\"MovieGenres/\" + filename) as movie:\n",
    "        genres = movie.read().split(',')\n",
    "        for gen in genres:\n",
    "            try:\n",
    "                f = io.open(\"GenreList/\" + gen + \".txt\", 'a', encoding='utf-8')\n",
    "                f.write(unicode(filename[:-4]) + \"\\n\")\n",
    "                f.close()\n",
    "            except:\n",
    "                f = io.open(\"GenreList/\" + gen + \".txt\", 'w', encoding='utf-8')\n",
    "                f.write(unicode(filename[:-4]) + \"\\n\")\n",
    "                f.close()\n",
    "        "
   ]
  },
  {
   "cell_type": "code",
   "execution_count": null,
   "metadata": {
    "collapsed": true
   },
   "outputs": [],
   "source": []
  }
 ],
 "metadata": {
  "kernelspec": {
   "display_name": "Python 2",
   "language": "python",
   "name": "python2"
  },
  "language_info": {
   "codemirror_mode": {
    "name": "ipython",
    "version": 2
   },
   "file_extension": ".py",
   "mimetype": "text/x-python",
   "name": "python",
   "nbconvert_exporter": "python",
   "pygments_lexer": "ipython2",
   "version": "2.7.13"
  }
 },
 "nbformat": 4,
 "nbformat_minor": 2
}
